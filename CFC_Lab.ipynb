{
 "cells": [
  {
   "cell_type": "markdown",
   "metadata": {},
   "source": [
    "---\n",
    "title: Cross-frequency coupling\n",
    "project:\n",
    "  type: website\n",
    "format:\n",
    "  html:\n",
    "    code-fold: false\n",
    "    code-tools: true\n",
    "jupyter: python 3\n",
    "number-sections: false\n",
    "---"
   ]
  },
  {
   "cell_type": "markdown",
   "metadata": {},
   "source": [
    "# Analyze an example data set"
   ]
  },
  {
   "cell_type": "code",
   "execution_count": null,
   "metadata": {},
   "outputs": [],
   "source": [
    "# Load modules we'll need.\n",
    "from scipy.io import loadmat\n",
    "import matplotlib.pyplot as plt\n",
    "import numpy as np\n",
    "from scipy.signal import spectrogram"
   ]
  },
  {
   "cell_type": "markdown",
   "metadata": {},
   "source": [
    "## Step 1: Load the data and look at it.\n",
    "\n",
    "**Q.** Do you observe evidence of cross-frequency coupling?\n",
    "\n",
    "### Conclusions\n",
    "\n",
    "* \n",
    "* "
   ]
  },
  {
   "cell_type": "code",
   "execution_count": null,
   "metadata": {},
   "outputs": [],
   "source": [
    "# Load the data.\n",
    "data = loadmat('Data/LFP-1.mat')      # Load the data,\n",
    "t    = data['t'][0]                   # ... extract t, the time variable,\n",
    "LFP  = data['LFP'][0]                 # ... and LFP, the voltage variable.\n",
    "dt   = t[1] - t[0]                    # Define the sampling interval,\n",
    "fNQ  = 1 / dt / 2                     # ... and Nyquist frequency. "
   ]
  },
  {
   "cell_type": "code",
   "execution_count": null,
   "metadata": {},
   "outputs": [],
   "source": [
    "plt.plot(t,LFP);"
   ]
  },
  {
   "cell_type": "markdown",
   "metadata": {},
   "source": [
    "## Spectral analysis\n",
    "\n",
    "**Q.** What rhythms are present in the data?\n",
    "\n",
    "### Conclusions\n",
    "\n",
    "* \n",
    "* "
   ]
  },
  {
   "cell_type": "code",
   "execution_count": null,
   "metadata": {},
   "outputs": [],
   "source": [
    "# Compute the spectrum."
   ]
  },
  {
   "cell_type": "markdown",
   "metadata": {},
   "source": [
    "## Phase-amplitude coupling (Step 1)\n",
    "\n",
    "**Q.** Filter the data into low and high frequency bands. What frequency bands will you choose?\n",
    "\n",
    "**Q.** Visualize the data; does the filtering make sense?\n",
    "\n",
    "### Conclusions\n",
    "\n",
    "* \n",
    "* "
   ]
  },
  {
   "cell_type": "code",
   "execution_count": null,
   "metadata": {},
   "outputs": [],
   "source": [
    "from scipy import signal\n",
    "\n",
    "# Low frequency band.\n",
    "Wn = [??,??];                       # Set the passband [??-??] Hz,\n",
    "n = 100;                            # ... and filter order,\n",
    "                                    # ... build the bandpass filter,\n",
    "b = signal.firwin(n, Wn, nyq=fNQ, pass_zero=False, window='hamming');\n",
    "Vlo = signal.filtfilt(b, 1, LFP);   # ... and apply it to the data.\n",
    "\n",
    "# High frequency band.\n",
    "Wn = [??, ??];                      # Set the passband [??-??] Hz,\n",
    "n = 100;                            # ... and filter order,\n",
    "                                    # ... build the bandpass filter,\n",
    "b = signal.firwin(n, Wn, nyq=fNQ, pass_zero=False, window='hamming');\n",
    "Vhi = signal.filtfilt(b, 1, LFP);   # ... and apply it to the data."
   ]
  },
  {
   "cell_type": "markdown",
   "metadata": {},
   "source": [
    "## Phase-amplitude coupling (Step 2)\n",
    "\n",
    "**Q.** How do you extract the amplitude and phase from the filtered signals?\n",
    "\n",
    "**Q.** For `Vhi` and `Vlo`, we need to compute the [analytic signal](https://docs.scipy.org/doc/scipy/reference/generated/scipy.signal.hilbert.html), and then the [phase](https://docs.scipy.org/doc/numpy/reference/generated/numpy.angle.html) or [amplitude](https://docs.scipy.org/doc/numpy/reference/generated/numpy.absolute.html). What Python functions do you need?\n",
    "\n",
    "**Q.** Visualize the amplitude and phase; does it make sense?\n",
    "\n",
    "### Conclusions\n",
    "\n",
    "* \n",
    "* "
   ]
  },
  {
   "cell_type": "code",
   "execution_count": null,
   "metadata": {},
   "outputs": [],
   "source": [
    "# Compute the amplitude and phase."
   ]
  },
  {
   "cell_type": "markdown",
   "metadata": {},
   "source": [
    "## Phase-amplitude coupling (Step 3)\n",
    "\n",
    "**Q.** Determine if the phase and amplitude are related by making a phase-amplitude histogram. What is the value of the statistic *h*?\n",
    "\n",
    "**Q.** Does this result suggest CFC occurs in these data?\n",
    "\n",
    "**Q.** If no CFC occurred in the data, what would you expect to find in the plot of average amplitude versus phase? \n",
    "\n",
    "### Conclusions\n",
    "\n",
    "* \n",
    "* "
   ]
  },
  {
   "cell_type": "code",
   "execution_count": null,
   "metadata": {},
   "outputs": [],
   "source": [
    "# Plot the amplitude-phase histogram."
   ]
  }
 ],
 "metadata": {
  "kernelspec": {
   "display_name": "Python 3 (ipykernel)",
   "language": "python",
   "name": "python3"
  },
  "language_info": {
   "codemirror_mode": {
    "name": "ipython",
    "version": 3
   },
   "file_extension": ".py",
   "mimetype": "text/x-python",
   "name": "python",
   "nbconvert_exporter": "python",
   "pygments_lexer": "ipython3",
   "version": "3.8.18"
  }
 },
 "nbformat": 4,
 "nbformat_minor": 4
}
