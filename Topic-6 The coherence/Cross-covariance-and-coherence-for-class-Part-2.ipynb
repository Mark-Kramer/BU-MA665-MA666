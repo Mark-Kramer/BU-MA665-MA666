{
 "cells": [
  {
   "cell_type": "code",
   "execution_count": null,
   "metadata": {},
   "outputs": [],
   "source": [
    "# Load modules we'll need.\n",
    "\n",
    "from scipy.io import loadmat\n",
    "import matplotlib.pyplot as plt\n",
    "import numpy as np\n",
    "from scipy.signal import spectrogram\n",
    "%matplotlib osx"
   ]
  },
  {
   "cell_type": "code",
   "execution_count": null,
   "metadata": {},
   "outputs": [],
   "source": [
    "# Make two noise signals, with multiple trials.\n",
    "\n",
    "N = 1000;\n",
    "K = 100;\n",
    "dt= 0.001;\n",
    "T = N*dt;\n",
    "x = np.random.randn(K,N)\n",
    "y = np.random.randn(K,N)\n",
    "t = np.arange(0,N)*dt\n",
    "\n",
    "plt.plot(t,x[9,:])\n",
    "plt.plot(t,y[9,:])\n",
    "plt.xlabel('Time [s]');"
   ]
  },
  {
   "cell_type": "code",
   "execution_count": null,
   "metadata": {},
   "outputs": [],
   "source": [
    "# Compute the auto-covariance for each trial, then average over trials.\n",
    "\n",
    "ac_xx = 1/N*np.array([np.correlate(x0,x0, 'full') for x0 in x]);\n",
    "ac_xx = np.mean(ac_xx,0)                      # Average over trials.\n",
    "lags  = np.arange(-N + 1, N)                  # Create a lag axis,\n",
    "plt.plot(lags * dt, ac_xx)                    # ... and plot the result.\n",
    "plt.xlabel('Lag [s]')\n",
    "plt.ylabel('Trial averaged autocovariance');\n"
   ]
  },
  {
   "cell_type": "code",
   "execution_count": null,
   "metadata": {},
   "outputs": [],
   "source": [
    "# Compute the cross-covariance.\n",
    "\n",
    "cc_xy = 1/N*np.array([np.correlate(x[k,:],y[k,:], 'full') for k in range(0,K)]);\n",
    "cc_xy = np.mean(cc_xy,0)\n",
    "lags = np.arange(-N + 1, N)                  # Create a lag axis,\n",
    "plt.plot(lags * dt, cc_xy)                   # ... and plot the result.\n",
    "plt.xlabel('Lag [s]')\n",
    "plt.ylabel('Trial averaged cross-covariance');\n",
    "plt.ylim([-0.1, 1]);\n"
   ]
  },
  {
   "cell_type": "code",
   "execution_count": null,
   "metadata": {},
   "outputs": [],
   "source": [
    "# Compute the coherence.\n",
    "\n",
    "Xf = np.array([np.fft.fft(x0 - x0.mean()) for x0 in x])  # Compute Fourier transform of x for each trial\n",
    "Yf = np.array([np.fft.fft(y0 - y0.mean()) for y0 in y])  # Compute Fourier transform of y for each trial\n",
    "\n",
    "Sxx = 2 * dt**2 / T * (Xf * Xf.conj())  # Spectrum of E1 trials\n",
    "Syy = 2 * dt**2 / T * (Yf * Yf.conj())  # ... and E2 trials\n",
    "Sxy = 2 * dt**2 / T * (Xf * Yf.conj())  # ... and the cross spectrum\n",
    "\n",
    "# Compute the coherence.\n",
    "cohr_squared = (mean(Sxy,0)*np.conj(mean(Sxy,0))).real / (mean(Sxx.real,0) * mean(Syy.real,0))\n",
    "\n",
    "f = fftfreq(N, dt)                      # Define a frequency axis.\n",
    "plt.plot(f, cohr_squared)                       # Plot the coherence.\n",
    "plt.ylim([0, 1.1])                      # ... with y-axis scaled,\n",
    "plt.xlabel('Frequency [Hz]')            # ... and with axes labeled.\n",
    "plt.ylabel('Coherence')\n",
    "plt.title('Trial averaged coherence between two electrodes');"
   ]
  },
  {
   "cell_type": "code",
   "execution_count": null,
   "metadata": {},
   "outputs": [],
   "source": []
  }
 ],
 "metadata": {
  "kernelspec": {
   "display_name": "Python 3",
   "language": "python",
   "name": "python3"
  },
  "language_info": {
   "codemirror_mode": {
    "name": "ipython",
    "version": 3
   },
   "file_extension": ".py",
   "mimetype": "text/x-python",
   "name": "python",
   "nbconvert_exporter": "python",
   "pygments_lexer": "ipython3",
   "version": "3.7.4"
  }
 },
 "nbformat": 4,
 "nbformat_minor": 2
}
