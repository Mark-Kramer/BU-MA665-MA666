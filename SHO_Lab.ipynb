{
 "cells": [
  {
   "cell_type": "markdown",
   "id": "b79d46d7-ce24-42b5-a449-ff1c7617b7de",
   "metadata": {},
   "source": [
    "---\n",
    "title: Damped harmonic oscillator example\n",
    "project:\n",
    "  type: website\n",
    "format:\n",
    "  html:\n",
    "    code-fold: false\n",
    "    code-tools: true\n",
    "jupyter: python 3\n",
    "number-sections: false\n",
    "---"
   ]
  },
  {
   "cell_type": "code",
   "execution_count": null,
   "id": "c7080a34-74b7-40b7-ba76-b7ad10cd8ac5",
   "metadata": {},
   "outputs": [],
   "source": [
    "# Load necessary packages\n",
    "import numpy as np\n",
    "import matplotlib.pyplot as plt"
   ]
  },
  {
   "cell_type": "markdown",
   "id": "8025b77b-4596-410c-b6b6-2c35fde7acc8",
   "metadata": {},
   "source": [
    "## Define a damped harmonic oscillator + noise"
   ]
  },
  {
   "cell_type": "code",
   "execution_count": null,
   "id": "f8d7d2db-cec1-4c3b-b874-60eb27567d22",
   "metadata": {},
   "outputs": [],
   "source": [
    "def damped_harmonic_oscillator(omega,beta,noise,T0):\n",
    "\n",
    "    dt = 0.01;\n",
    "    T  = int(np.ceil(T0/dt))\n",
    "\n",
    "    t = np.arange(0,T)*dt\n",
    "    F = np.zeros([T,1])         # Set up forcing,\n",
    "    F[int(0.25*T)] = 1;         # ... give it a kick 25% of way into simulation.\n",
    "    x = np.zeros([T,1])\n",
    "    y = np.zeros([T,1])\n",
    "\n",
    "    x[0]=0\n",
    "    y[0]=0\n",
    "    \n",
    "    for i in range(0,T-1):\n",
    "        x[i+1] = x[i] + dt*(y[i]);\n",
    "        y[i+1] = y[i] + dt*(-omega**2*x[i] - 2*beta*y[i] + F[i] + noise*np.random.randn());\n",
    "\n",
    "    return x,t"
   ]
  },
  {
   "cell_type": "markdown",
   "id": "bbb12769-38a5-4830-b721-c962832e9b23",
   "metadata": {},
   "source": [
    "## Simulate the model"
   ]
  },
  {
   "cell_type": "code",
   "execution_count": null,
   "id": "61ea2453-0745-4bc3-901c-d36e11e7716f",
   "metadata": {},
   "outputs": [],
   "source": [
    "f     = 1;\n",
    "omega = 2*np.pi*f;\n",
    "beta  = 1;\n",
    "noise = 0;\n",
    "T0    = 10\n",
    "x,t   = damped_harmonic_oscillator(omega,beta,noise,T0);\n",
    "plt.plot(t,x);"
   ]
  },
  {
   "cell_type": "markdown",
   "id": "a6cf952e-e134-444e-b596-48d443806204",
   "metadata": {},
   "source": [
    "### "
   ]
  }
 ],
 "metadata": {
  "kernelspec": {
   "display_name": "Python 3 (ipykernel)",
   "language": "python",
   "name": "python3"
  },
  "language_info": {
   "codemirror_mode": {
    "name": "ipython",
    "version": 3
   },
   "file_extension": ".py",
   "mimetype": "text/x-python",
   "name": "python",
   "nbconvert_exporter": "python",
   "pygments_lexer": "ipython3",
   "version": "3.12.4"
  }
 },
 "nbformat": 4,
 "nbformat_minor": 5
}
