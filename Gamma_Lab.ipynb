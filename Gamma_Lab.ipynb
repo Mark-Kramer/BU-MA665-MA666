{
 "cells": [
  {
   "cell_type": "markdown",
   "id": "492f286f-056d-4885-88f7-e2921e442ed7",
   "metadata": {},
   "source": [
    "---\n",
    "title: Gamma rhythms models\n",
    "project:\n",
    "  type: website\n",
    "format:\n",
    "  html:\n",
    "    code-fold: false\n",
    "    code-tools: true\n",
    "jupyter: python 3\n",
    "number-sections: false\n",
    "---"
   ]
  },
  {
   "cell_type": "code",
   "execution_count": null,
   "id": "1b99eed7-54f1-43c5-8d53-08bdad332e37",
   "metadata": {},
   "outputs": [],
   "source": [
    "import matplotlib.pyplot as plt\n",
    "import numpy as np"
   ]
  },
  {
   "cell_type": "markdown",
   "id": "49ef5223-e7ac-41a3-8157-46a784843b68",
   "metadata": {},
   "source": [
    "# ING"
   ]
  },
  {
   "cell_type": "markdown",
   "id": "f0749fb6-68b7-415a-b1b6-35282f590faf",
   "metadata": {},
   "source": [
    "Define the ING model. It's the [HH model](https://raw.githubusercontent.com/Mark-Kramer/BU-MA665-MA666/master/HH_functions.py), with an update to include the inhibitory synaptic dynamics."
   ]
  },
  {
   "cell_type": "code",
   "execution_count": null,
   "id": "9dcf6187-08f2-40ac-b95e-fade63ec64c5",
   "metadata": {},
   "outputs": [],
   "source": [
    "def alphaM(V):\n",
    "    return (2.5-0.1*(V+65)) / (np.exp(2.5-0.1*(V+65)) -1)\n",
    "\n",
    "def betaM(V):\n",
    "    return 4*np.exp(-(V+65)/18)\n",
    "\n",
    "def alphaH(V):\n",
    "    return 0.07*np.exp(-(V+65)/20)\n",
    "\n",
    "def betaH(V):\n",
    "    return 1/(np.exp(3.0-0.1*(V+65))+1)\n",
    "\n",
    "def alphaN(V):\n",
    "    return (0.1-0.01*(V+65)) / (np.exp(1-0.1*(V+65)) -1)\n",
    "\n",
    "def betaN(V):\n",
    "    return 0.125*np.exp(-(V+65)/80)\n",
    "\n",
    "def ing(I0,gI,tauI,T0):\n",
    "    dt = 0.01;\n",
    "    T  = int(np.ceil(T0/dt))  # [ms]\n",
    "    gNa0 = 120   # [mS/cm^2]\n",
    "    ENa  = 125;  # [mV]\n",
    "    gK0  = 36;   # [mS/cm^2]\n",
    "    EK   = -12;  # [mV]\n",
    "    gL0  = 0.3;  # [mS/cm^2]\n",
    "    EL   = 10.6; # [mV]\n",
    "\n",
    "    t = np.arange(0,T)*dt\n",
    "    V = np.zeros([T,1])\n",
    "    m = np.zeros([T,1])\n",
    "    h = np.zeros([T,1])\n",
    "    n = np.zeros([T,1])\n",
    "\n",
    "    # Initialize variables to hold the synapse results\n",
    "    s = np.zeros(T)\n",
    "\n",
    "    V[0]=-70.0\n",
    "    m[0]=0.05\n",
    "    h[0]=0.54\n",
    "    n[0]=0.34\n",
    "    s[0]=0.0\n",
    "\n",
    "    for i in range(0,T-1):\n",
    "        V[i+1] = V[i] + dt*(gNa0*m[i]**3*h[i]*(ENa-(V[i]+65)) + gK0*n[i]**4*(EK-(V[i]+65)) + gL0*(EL-(V[i]+65)) + I0 + gI*s[i]*(-80 - V[i]))\n",
    "        m[i+1] = m[i] + dt*(alphaM(V[i])*(1-m[i]) - betaM(V[i])*m[i]);\n",
    "        h[i+1] = h[i] + dt*(alphaH(V[i])*(1-h[i]) - betaH(V[i])*h[i]);\n",
    "        n[i+1] = n[i] + dt*(alphaN(V[i])*(1-n[i]) - betaN(V[i])*n[i]);\n",
    "        s[i+1] = s[i] + dt * (((1 + np.tanh(V[i] / 10)) / 2) * (1 - s[i]) / 0.5 - s[i] / tauI)  # Update s\n",
    "    return V,s,t"
   ]
  },
  {
   "cell_type": "markdown",
   "id": "7d576d2c-9179-4cab-a0ae-f719039d5a42",
   "metadata": {},
   "source": [
    "## Begin with the inhibitory synapse turned off."
   ]
  },
  {
   "cell_type": "code",
   "execution_count": null,
   "id": "df62753f-e49d-4e77-9631-04138b547018",
   "metadata": {},
   "outputs": [],
   "source": [
    "I0   = 30;    #Set the input drive to excite the cell.\n",
    "gI   = 0;     #Turn off inhibitory synapse, to start.\n",
    "tauI = 10;    #Set decay time of inhibitory synapse to 10ms.\n",
    "T0   = 100;   #Simulate for 100 ms.\n",
    "\n",
    "[V,s,t] = ing(I0,gI,tauI,T0)\n",
    "plt.plot(t,V); plt.xlabel('Time [ms]'); plt.ylabel('Voltage [mV]');"
   ]
  },
  {
   "cell_type": "markdown",
   "id": "68916fde-67ae-46cc-89b9-90655e41e45f",
   "metadata": {},
   "source": [
    "## Turn on the inhibitory synapse."
   ]
  },
  {
   "cell_type": "code",
   "execution_count": null,
   "id": "a5c0fb13-de44-4987-9972-473b4837b120",
   "metadata": {},
   "outputs": [],
   "source": [
    "gI = 'SOMETHING'\n",
    "[V,s,t] = ing(I0,gI,tauI,T0);\n",
    "plt.subplot(2,1,1)\n",
    "plt.plot(t,V); plt.xlabel('Time [ms]'); plt.ylabel('Voltage [mV]');\n",
    "plt.subplot(2,1,2)\n",
    "plt.plot(t,s,'r'); plt.xlabel('Time [ms]'); plt.ylabel('Inhibitory synaptic gate');"
   ]
  },
  {
   "cell_type": "markdown",
   "id": "79097e91-4d6c-4059-9866-086f7e8782b3",
   "metadata": {},
   "source": [
    "**Q:** How does the spiking frequency change?\n",
    "\n",
    "**Q:** How do the synapses evolve?\n",
    "\n",
    "**Q:** This model captures 3 experimental observations we discussed in class.  To generate gamma,\n",
    "1) The cell needs sufficient excitatory drive,\n",
    "2) The GABA synapse is critical, and\n",
    "3) Altering the decay time of the inhibitory synapse changes the gamma frequency.\n",
    "\n",
    "Show that all three observations are captured by this model."
   ]
  },
  {
   "cell_type": "code",
   "execution_count": null,
   "id": "2e3690ed-bab2-4997-b01f-980f94b3a28b",
   "metadata": {},
   "outputs": [],
   "source": []
  }
 ],
 "metadata": {
  "kernelspec": {
   "display_name": "Python 3 (ipykernel)",
   "language": "python",
   "name": "python3"
  },
  "language_info": {
   "codemirror_mode": {
    "name": "ipython",
    "version": 3
   },
   "file_extension": ".py",
   "mimetype": "text/x-python",
   "name": "python",
   "nbconvert_exporter": "python",
   "pygments_lexer": "ipython3",
   "version": "3.8.18"
  }
 },
 "nbformat": 4,
 "nbformat_minor": 5
}
