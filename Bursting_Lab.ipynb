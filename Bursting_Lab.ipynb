{
 "cells": [
  {
   "cell_type": "markdown",
   "id": "e713df72-6ca2-4213-9278-f718f2fda642",
   "metadata": {},
   "source": [
    "---\n",
    "title: Bursting Neuron\n",
    "project:\n",
    "  type: website\n",
    "format:\n",
    "  html:\n",
    "    code-fold: false\n",
    "    code-tools: true\n",
    "jupyter: python 3\n",
    "number-sections: false\n",
    "---"
   ]
  },
  {
   "cell_type": "markdown",
   "id": "472ba20d-8461-41fe-9518-50c286f6b552",
   "metadata": {},
   "source": [
    "The goal in this notebook is to update the HH equations to include a new (slow) current and produce bursting activity.\n",
    "\n",
    "To do so, start with the [HH code available here](https://raw.githubusercontent.com/Mark-Kramer/BU-MA665-MA666/master/HH_functions.py).\n",
    "\n",
    "Update the HH model to include the **$\\bf{g_K-}$\"M\" current** listed in [**Table A2** of this publication](/Readings/Traub_J_Neurophysiol_2003.pdf).\n",
    "\n",
    "In the code below, we'll use the variable `B` to define the gate for this current.\n",
    "\n",
    "## Challenges\n",
    "\n",
    "#### 1. Plot the steady-state function and time constant for this new current.\n",
    "\n",
    "*HINT:* In [**Table A2** of this publication](/Readings/Traub_J_Neurophysiol_2003.pdf), the authors provide the forward rate function ($\\alpha[V]$) and backward rate function ($\\beta[V]$) for this current. Use these functions to compute the steady-state function and time constant, and plot both versus V. \n",
    "\n",
    "#### 2. Update the HH model to include this new current.\n",
    "\n",
    "*HINT:* Update the HH model to accept three inputs: `HH(I0, T0, gB0)`, where `gB0` is the maximal conductance of the new current.\n",
    "\n",
    "*HINT:* Update the HH model to return six outputs: `return V,m,h,n,B,t`, where `B` is the gate variable of the new current.\n",
    "\n",
    "#### 3. Find parameter settings so that the model produces bursting activity.\n",
    "\n",
    "*HINT:* Fix `I0=10` and `T0=500` and vary the maximal conductance of the new current, `gB0`, until you find a value that supports bursting in the voltage.\n",
    "\n",
    "*HINT:* Plot the voltage `V` and the new current gate `B` to visualize how the dynamics behave.\n",
    "\n",
    "#### 4. Compute the spectrum to characterize the dominant rhythms.\n",
    "\n",
    "*HINT:* Be sure to carefully define `T`."
   ]
  },
  {
   "cell_type": "code",
   "execution_count": null,
   "id": "a21a66c6-93b9-43e6-ad92-5bf168cbdd97",
   "metadata": {},
   "outputs": [],
   "source": [
    "import numpy as np\n",
    "import matplotlib.pyplot as plt"
   ]
  },
  {
   "cell_type": "code",
   "execution_count": null,
   "id": "e4af71a7-49d8-4004-8947-6ebddef6cb76",
   "metadata": {},
   "outputs": [],
   "source": [
    "def alphaM(V):\n",
    "    return (2.5-0.1*(V+65)) / (np.exp(2.5-0.1*(V+65)) -1)\n",
    "\n",
    "def betaM(V):\n",
    "    return 4*np.exp(-(V+65)/18)\n",
    "\n",
    "def alphaH(V):\n",
    "    return 0.07*np.exp(-(V+65)/20)\n",
    "\n",
    "def betaH(V):\n",
    "    return 1/(np.exp(3.0-0.1*(V+65))+1)\n",
    "\n",
    "def alphaN(V):\n",
    "    return (0.1-0.01*(V+65)) / (np.exp(1-0.1*(V+65)) -1)\n",
    "\n",
    "def betaN(V):\n",
    "    return 0.125*np.exp(-(V+65)/80)\n",
    "\n",
    "def alphaB(V):\n",
    "    return \"SOMETHING\"\n",
    "\n",
    "def betaB(V):\n",
    "    return \"SOMETHING\"\n",
    "\n",
    "def HHB(I0,T0,gB0):\n",
    "    \"SOMETHING\""
   ]
  }
 ],
 "metadata": {
  "kernelspec": {
   "display_name": "Python 3 (ipykernel)",
   "language": "python",
   "name": "python3"
  },
  "language_info": {
   "codemirror_mode": {
    "name": "ipython",
    "version": 3
   },
   "file_extension": ".py",
   "mimetype": "text/x-python",
   "name": "python",
   "nbconvert_exporter": "python",
   "pygments_lexer": "ipython3",
   "version": "3.8.18"
  }
 },
 "nbformat": 4,
 "nbformat_minor": 5
}
