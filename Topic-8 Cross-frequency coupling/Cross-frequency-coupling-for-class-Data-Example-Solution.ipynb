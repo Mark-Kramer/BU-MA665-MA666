{
 "cells": [
  {
   "cell_type": "markdown",
   "metadata": {},
   "source": [
    "# Analyze an example data set"
   ]
  },
  {
   "cell_type": "code",
   "execution_count": null,
   "metadata": {},
   "outputs": [],
   "source": [
    "# Load modules we'll need.\n",
    "\n",
    "from scipy.io import loadmat\n",
    "import matplotlib.pyplot as plt\n",
    "import numpy as np\n",
    "from scipy.signal import spectrogram\n",
    "%matplotlib osx"
   ]
  },
  {
   "cell_type": "markdown",
   "metadata": {},
   "source": [
    "## Step 1: Load the data and look at it.\n",
    "\n",
    "**Q.** Do you observe evidence of cross-frequency coupling?\n",
    "\n",
    "### Conclusions\n",
    "\n",
    "* \n",
    "* "
   ]
  },
  {
   "cell_type": "code",
   "execution_count": null,
   "metadata": {},
   "outputs": [],
   "source": [
    "# Load the data.\n",
    "\n",
    "data = loadmat('LFP-1.mat')  # Load the data,\n",
    "t = data['t'][0]                     # ... extract t, the time variable,\n",
    "LFP = data['LFP'][0]                 # ... and LFP, the voltage variable,\n",
    "dt = t[1] - t[0]                     # Define the sampling interval,\n",
    "fNQ = 1 / dt / 2                     # ... and Nyquist frequency. "
   ]
  },
  {
   "cell_type": "code",
   "execution_count": null,
   "metadata": {},
   "outputs": [],
   "source": [
    "# Look at it.\n",
    "\n",
    "print(LFP.shape)\n",
    "\n",
    "plt.plot(t,LFP)\n",
    "plt.xlabel('Time [s]');\n",
    "plt.ylabel('Voltage [mV]');"
   ]
  },
  {
   "cell_type": "code",
   "execution_count": null,
   "metadata": {},
   "outputs": [],
   "source": [
    "# Take a closer look at an example 1 s interval of the data\n",
    "\n",
    "plt.plot(t, LFP)            # Plot the LFP data,\n",
    "plt.xlim([4, 5])            # ... restrict the x-axis to a 1 s interval,\n",
    "plt.ylim([-2, 2])           # ... and tighten the y-axis.\n",
    "plt.xlabel('Time [s]')      # Label the axes\n",
    "plt.ylabel('Voltage [mV]')\n",
    "plt.show()"
   ]
  },
  {
   "cell_type": "markdown",
   "metadata": {},
   "source": [
    "## Spectral analysis\n",
    "\n",
    "**Q.** What rhythms are present in the data?\n",
    "\n",
    "### Conclusions\n",
    "\n",
    "* \n",
    "* "
   ]
  },
  {
   "cell_type": "code",
   "execution_count": null,
   "metadata": {},
   "outputs": [],
   "source": [
    "T = t[-1]                            # ... the duration of the data,\n",
    "N = len(LFP)                         # ... and the no. of data points\n",
    "\n",
    "x = np.hanning(N) * LFP              # Multiply data by a Hanning taper\n",
    "xf = np.fft.rfft(x - x.mean())       # Compute Fourier transform\n",
    "Sxx = 2*dt**2/T * (xf*np.conj(xf))   # Compute the spectrum\n",
    "Sxx = np.real(Sxx)                   # Ignore complex components\n",
    "\n",
    "df = 1 / T                           # Define frequency resolution,\n",
    "fNQ = 1 / dt / 2                     # ... and Nyquist frequency. \n",
    "\n",
    "faxis = np.arange(0, fNQ + df, df)   # Construct freq. axis\n",
    "plt.plot(faxis, 10 * np.log10(Sxx))  # Plot spectrum vs freq.\n",
    "plt.xlim([0, 200])                   # Set freq. range, \n",
    "plt.ylim([-80, 0])                   # ... and decibel range\n",
    "plt.xlabel('Frequency [Hz]')         # Label the axes\n",
    "plt.ylabel('Power [mV$^2$/Hz]')"
   ]
  },
  {
   "cell_type": "markdown",
   "metadata": {},
   "source": [
    "## Phase-amplitude coupling (Step 1)\n",
    "\n",
    "**Q.** Filter the data into low and high frequency bands. What frequency bands will you choose?\n",
    "\n",
    "**Q.** Visualize the data; does the filtering make sense?\n",
    "\n",
    "### Conclusions\n",
    "\n",
    "* \n",
    "* "
   ]
  },
  {
   "cell_type": "code",
   "execution_count": null,
   "metadata": {
    "scrolled": false
   },
   "outputs": [],
   "source": [
    "from scipy import signal\n",
    "\n",
    "# Low frequency band.\n",
    "Wn = [5,7];                         # Set the passband [5-7] Hz,\n",
    "n = 100;                            # ... and filter order,\n",
    "                                    # ... build the bandpass filter,\n",
    "b = signal.firwin(n, Wn, nyq=fNQ, pass_zero=False, window='hamming');\n",
    "Vlo = signal.filtfilt(b, 1, LFP);   # ... and apply it to the data.\n",
    "\n",
    "# High frequency band.\n",
    "Wn = [80, 120];                     # Set the passband [80-120] Hz,\n",
    "n = 100;                            # ... and filter order,\n",
    "                                    # ... build the bandpass filter,\n",
    "b = signal.firwin(n, Wn, nyq=fNQ, pass_zero=False, window='hamming');\n",
    "Vhi = signal.filtfilt(b, 1, LFP);   # ... and apply it to the data.\n",
    "\n",
    "plt.figure(figsize=(14, 4))         # Create a figure with a specific size.\n",
    "plt.plot(t, LFP)                    # Plot the original data vs time.\n",
    "plt.plot(t, Vlo)                    # Plot the low-frequency filtered data vs time.\n",
    "plt.plot(t, Vhi)                    # Plot the high-frequency filtered data vs time.\n",
    "plt.xlabel('Time [s]')\n",
    "plt.xlim([24, 26]);                 # Choose a 2 s interval to examine\n",
    "plt.ylim([-2, 2]);\n",
    "plt.legend(['LFP', 'Vlo', 'Vhi']);  # Add a legend."
   ]
  },
  {
   "cell_type": "markdown",
   "metadata": {},
   "source": [
    "## Phase-amplitude coupling (Step 2)\n",
    "\n",
    "**Q.** How do you extract the amplitude and phase from the filtered signals?\n",
    "\n",
    "**Q.** For `Vhi` and `Vlo`, we need to compute the [analytic signal](https://docs.scipy.org/doc/scipy/reference/generated/scipy.signal.hilbert.html), and then the [phase](https://docs.scipy.org/doc/numpy/reference/generated/numpy.angle.html) or [amplitude](https://docs.scipy.org/doc/numpy/reference/generated/numpy.absolute.html). What Python functions do you need?\n",
    "\n",
    "**Q.** Visualize the amplitude and phase; does it make sense? \n",
    "\n",
    "### Conclusions\n",
    "\n",
    "* \n",
    "* "
   ]
  },
  {
   "cell_type": "code",
   "execution_count": null,
   "metadata": {},
   "outputs": [],
   "source": [
    "phi = np.angle(signal.hilbert(Vlo))  # Compute phase of low-freq signal\n",
    "amp = abs(signal.hilbert(Vhi))       # Compute amplitude of high-freq signal\n",
    "\n",
    "plt.figure(figsize=(14, 4))         # Create a figure with a specific size.\n",
    "plt.plot(t, Vlo)                    # Plot the low-frequency filtered data vs time.\n",
    "plt.plot(t, Vhi)                    # Plot the high-frequency filtered data vs time.\n",
    "plt.plot(t, phi)                    # Plot the phase of the low frequency signal vs time.\n",
    "plt.plot(t, amp)                    # Plot the amplitude of the low frequency signal vs time.\n",
    "plt.xlabel('Time [s]')\n",
    "plt.xlim([24, 26]);                 # Choose a 2 s interval to examine\n",
    "plt.ylim([-pi, pi]);\n",
    "plt.legend(['LFP', 'Vlo', 'Vhi']);  # Add a legend."
   ]
  },
  {
   "cell_type": "markdown",
   "metadata": {},
   "source": [
    "## Phase-amplitude coupling (Step 3)\n",
    "\n",
    "**Q.** Determine if the phase and amplitude are related by making a phase-amplitude histogram. What is the value of the statistic *h*?\n",
    "\n",
    "**Q.** Does this result suggest CFC occurs in these data?\n",
    "\n",
    "**Q.** If no CFC occurred in the data, what would you expect to find in the plot of average amplitude versus phase? \n",
    "\n",
    "### Conclusions\n",
    "\n",
    "* \n",
    "* "
   ]
  },
  {
   "cell_type": "code",
   "execution_count": null,
   "metadata": {},
   "outputs": [],
   "source": [
    "p_bins = np.arange(-np.pi, np.pi, 0.1)\n",
    "a_mean = np.zeros(np.size(p_bins)-1)\n",
    "p_mean = np.zeros(np.size(p_bins)-1)\n",
    "for k in range(np.size(p_bins)-1):\n",
    "    pL = p_bins[k]\t\t\t\t\t    #... lower phase limit,\n",
    "    pR = p_bins[k+1]\t\t\t\t    #... upper phase limit.\n",
    "    indices=(phi>=pL) & (phi<pR)\t    #Find phases falling in bin,\n",
    "    a_mean[k] = np.mean(amp[indices])\t#... compute mean amplitude,\n",
    "    p_mean[k] = np.mean([pL, pR])\t\t#... save center phase.\n",
    "plt.plot(p_mean, a_mean)                #Plot the phase versus amplitude,\n",
    "plt.ylabel('High-frequency amplitude')  #... with axes labeled.\n",
    "plt.xlabel('Low-frequency phase');\n",
    "\n",
    "h = max(a_mean)-min(a_mean)\n",
    "print(h)"
   ]
  },
  {
   "cell_type": "markdown",
   "metadata": {},
   "source": [
    "## Assess the significance of *h* by resampling.\n",
    "\n",
    "**Q.** Is the value of *h* big or small?\n",
    "\n",
    "To assess the significance of $h$, generate a surrogate phase-amplitude vector by resampling without replacement the amplitude time series (i.e., the second column of the phase-amplitude vector).\n",
    "\n",
    "By performing this resampling, we reassign each phase an amplitude chosen randomly from the entire 100 s LFP recording. We expect that if CFC does exist in these data, then the timing of the phase and amplitude vectors will be important; for CFC to occur, the amplitude and phase must coordinate in time. By disrupting this timing in the resampling procedure, we expect to eliminate the coordination between amplitude and phase necessary to produce CFC.\n",
    "\n",
    "For each surrogate phase-amplitude vector, we compute the statistic $h$. To generate a distribution of $h$ values, repeat 1,000 times this process of creating surrogate data through resampling and computing $h$.\n",
    "\n",
    "### Conclusions\n",
    "\n",
    "* \n",
    "* "
   ]
  },
  {
   "cell_type": "code",
   "execution_count": null,
   "metadata": {},
   "outputs": [],
   "source": [
    "n_surrogates = 1000;                       #Define no. of surrogates.\n",
    "hS = np.zeros(n_surrogates)                #Vector to hold h results.\n",
    "for ns in range(n_surrogates):             #For each surrogate,\n",
    "    ampS = amp[np.random.randint(0,N,N)]   #Resample amplitude,\n",
    "    p_bins = np.arange(-np.pi, np.pi, 0.1) #Define the phase bins\n",
    "    a_mean = np.zeros(np.size(p_bins)-1)   #Vector for average amps.\n",
    "    p_mean = np.zeros(np.size(p_bins)-1)   #Vector for phase bins.\n",
    "    for k in range(np.size(p_bins)-1):\n",
    "        pL = p_bins[k]\t\t\t\t\t    #... lower phase limit,\n",
    "        pR = p_bins[k+1]\t\t\t\t    #... upper phase limit.\n",
    "        indices=(phi>=pL) & (phi<pR)\t    #Find phases falling in bin,\n",
    "        a_mean[k] = np.mean(ampS[indices])\t#... compute mean amplitude,\n",
    "        p_mean[k] = np.mean([pL, pR])\t\t#... save center phase.\n",
    "    hS[ns] = max(a_mean)-min(a_mean)        # Store surrogate h."
   ]
  },
  {
   "cell_type": "code",
   "execution_count": null,
   "metadata": {},
   "outputs": [],
   "source": [
    "counts, _, _ = plt.hist(hS, label='surrogates')               # Plot the histogram of hS, and save the bin counts.\n",
    "plt.vlines(h, 0, max(counts), colors='red', label='h', lw=2)  # Plot the observed h,\n",
    "plt.legend();\n",
    "\n",
    "p = sum([s > h for s in hS]) / len(hS)\n",
    "print(p)"
   ]
  }
 ],
 "metadata": {
  "kernelspec": {
   "display_name": "Python 3",
   "language": "python",
   "name": "python3"
  },
  "language_info": {
   "codemirror_mode": {
    "name": "ipython",
    "version": 3
   },
   "file_extension": ".py",
   "mimetype": "text/x-python",
   "name": "python",
   "nbconvert_exporter": "python",
   "pygments_lexer": "ipython3",
   "version": "3.6.6"
  }
 },
 "nbformat": 4,
 "nbformat_minor": 2
}
