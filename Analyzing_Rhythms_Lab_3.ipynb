{
 "cells": [
  {
   "cell_type": "markdown",
   "metadata": {},
   "source": [
    "---\n",
    "title: Analyzing Rhythms Part 3 (Spectra of spike trains)\n",
    "project:\n",
    "  type: website\n",
    "format:\n",
    "  html:\n",
    "    code-fold: false\n",
    "    code-tools: true\n",
    "jupyter: python 3\n",
    "number-sections: false\n",
    "---"
   ]
  },
  {
   "cell_type": "code",
   "execution_count": null,
   "metadata": {},
   "outputs": [],
   "source": [
    "# Load modules we'll need.\n",
    "import numpy as np\n",
    "import matplotlib.pyplot as plt"
   ]
  },
  {
   "cell_type": "markdown",
   "metadata": {},
   "source": [
    "# Example: a randomly spiking neuron"
   ]
  },
  {
   "cell_type": "markdown",
   "metadata": {},
   "source": [
    "To start, let's create a fake spike train for a randomly spiking neuron, and compute the autocovariance and spectrum."
   ]
  },
  {
   "cell_type": "code",
   "execution_count": null,
   "metadata": {},
   "outputs": [],
   "source": [
    "N  = 5000;                          # Number of bins.                   \n",
    "dt = 0.001;                         # Duration of each bin [s].\n",
    "T  = N*dt;                          # Total time of observation [s].\n",
    "tm = np.arange(0,N)*dt;             # Time axis for plotting\n",
    "\n",
    "lambda0 = 5                         # Average firing rate [Hz]\n",
    "p0      = lambda0*dt;               # Probability of a spike in a time bin\n",
    "dn      = np.random.binomial(1,p0,N)# Create the spike train as \"coin flips\"\n",
    "\n",
    "plt.plot(tm, dn)                    # Plot it.\n",
    "plt.xlabel('Time [s]');"
   ]
  },
  {
   "cell_type": "code",
   "execution_count": null,
   "metadata": {},
   "outputs": [],
   "source": [
    "# Compute the autocovariance.\n",
    "\n",
    "ac_xx = \"SOMETHING\n",
    "\n",
    "                                    # Plot it.\n",
    "lags  = np.arange(-N + 1, N)        # Create a lag axis,\n",
    "plt.plot(lags * dt, ac_xx)          # ... and plot the result.\n",
    "plt.xlabel('Lag [s]')\n",
    "plt.ylabel('Autocovariance');\n",
    "\n",
    "print('lambda0*dt = ',lambda0*dt)  # Compare expected r_{nn}[0] to computed value.\n",
    "print('r_{nn}[0]  = ',ac_xx[N-1])"
   ]
  },
  {
   "cell_type": "code",
   "execution_count": null,
   "metadata": {},
   "outputs": [],
   "source": [
    "# Compute the spectrum.\n",
    "\n",
    "Dj = \"SOMETHING\"                            # Compute the FT,\n",
    "Pj = \"SOMETHING\"                            # ... and the spectrum.\n",
    "\n",
    "f = np.fft.fftfreq(N, dt)                   # Create frequency axis.\n",
    "\n",
    "plt.plot(f, np.real(Pj))                    # Plot the spectrum.\n",
    "in_class_guess = \"SOMETHING\"                # And our guess from in-class analysis.\n",
    "plt.plot(f,in_class_guess*np.ones(N), 'b')\n",
    "plt.xlabel('Frequency [Hz]');"
   ]
  },
  {
   "cell_type": "code",
   "execution_count": null,
   "metadata": {},
   "outputs": [],
   "source": [
    "# Repeat the entire simulation many times, and plot the average spectrum\n",
    "\n",
    "K  = 1000                                       # Number of times to repeat the simulation.\n",
    "lambda_est = np.zeros(K)                        # Vector to store estimate of lambda.\n",
    "P  = np.zeros([K,np.size(Pj)])                  # Matrix to store spectra,\n",
    "AC = np.zeros([K,2*N-1])                        # ... and AC.\n",
    "\n",
    "for k in np.arange(K):                          # For each repeat,\n",
    "    dn = np.random.binomial(1,p0,N)             # ... create a new spike train.\n",
    "\n",
    "    lambda_est[k] = \"SOMETHING\"\n",
    "                                                # Compute the AC,\n",
    "    ac_xx = \"SOMETHING\"\n",
    "    AC[k,:] = ac_xx                             # ... and save the result.\n",
    "    \n",
    "    Dj = \"SOMETHING\"                            # Compute the FT,\n",
    "    Pj = \"SOMETHING\"                            # ... and the spectrum,\n",
    "    P[k,:] = Pj                                 # ... and save the result.\n",
    "\n",
    "plt.figure()                                    # Plot it.\n",
    "plt.plot(lags, np.mean(AC,0))\n",
    "plt.xlabel('Lag [s]')\n",
    "plt.ylabel('Autocovariance');\n",
    "\n",
    "plt.figure()\n",
    "plt.plot(f, np.mean(P,0))                       # Plot the spectrum, averaged over repeats\n",
    "in_class_guess = \"SOMETHING\"                    # Use lambda_est to compute our guess from in-class analysis.\n",
    "plt.plot(f,in_class_guess*np.ones(N), 'b')\n",
    "plt.xlabel('Frequency [Hz]');"
   ]
  },
  {
   "cell_type": "markdown",
   "metadata": {},
   "source": [
    "# Example: a randomly spiking neuron + refractory period"
   ]
  },
  {
   "cell_type": "markdown",
   "metadata": {},
   "source": [
    "Now, let's create a fake spike train for a randomly spiking neuron with a refractory period, and compute the autocovariance and spectrum."
   ]
  },
  {
   "cell_type": "code",
   "execution_count": null,
   "metadata": {},
   "outputs": [],
   "source": [
    "N  = 5000;                          # Number of bins.                   \n",
    "dt = 0.001;                         # Duration of each bin [s].\n",
    "T  = N*dt;                          # Total time of observation [s].\n",
    "tm = np.arange(0,N)*dt;             # Time axis for plotting\n",
    "\n",
    "lambda0 = 5                         # Average firing rate [Hz]\n",
    "p0      = lambda0*dt;               # Probability of a spike in a time bin\n",
    "dn      = np.random.binomial(1,p0,N)# Create the spike train as \"coin flips\"\n",
    "refractory_period = 10              # Add a refractory period\n",
    "for i in np.arange(N):\n",
    "    if dn[i]==1:\n",
    "        dn[i+1:i+refractory_period] = 0\n",
    "\n",
    "plt.plot(tm, dn)                    # Plot it.\n",
    "plt.xlabel('Time [s]');"
   ]
  },
  {
   "cell_type": "code",
   "execution_count": null,
   "metadata": {},
   "outputs": [],
   "source": [
    "# Compute the autocovariance."
   ]
  },
  {
   "cell_type": "code",
   "execution_count": null,
   "metadata": {},
   "outputs": [],
   "source": [
    "# Compute the spectrum."
   ]
  },
  {
   "cell_type": "code",
   "execution_count": null,
   "metadata": {},
   "outputs": [],
   "source": [
    "# Repeat the entire simulation many times, and plot the average spectrum"
   ]
  }
 ],
 "metadata": {
  "kernelspec": {
   "display_name": "Python 3 (ipykernel)",
   "language": "python",
   "name": "python3"
  },
  "language_info": {
   "codemirror_mode": {
    "name": "ipython",
    "version": 3
   },
   "file_extension": ".py",
   "mimetype": "text/x-python",
   "name": "python",
   "nbconvert_exporter": "python",
   "pygments_lexer": "ipython3",
   "version": "3.12.4"
  }
 },
 "nbformat": 4,
 "nbformat_minor": 4
}
