{
 "cells": [
  {
   "cell_type": "markdown",
   "metadata": {},
   "source": [
    "---\n",
    "title: Analyzing Rhythms Part 2b (Autocovariance)\n",
    "project:\n",
    "  type: website\n",
    "format:\n",
    "  html:\n",
    "    code-fold: false\n",
    "    code-tools: true\n",
    "jupyter: python 3\n",
    "number-sections: false\n",
    "---"
   ]
  },
  {
   "cell_type": "code",
   "execution_count": null,
   "metadata": {},
   "outputs": [],
   "source": [
    "# Load modules we'll need.\n",
    "from scipy.io import loadmat\n",
    "import matplotlib.pyplot as plt\n",
    "import numpy as np\n",
    "from scipy.signal import spectrogram"
   ]
  },
  {
   "cell_type": "code",
   "execution_count": null,
   "metadata": {},
   "outputs": [],
   "source": [
    "# Load the data.\n",
    "data = loadmat('AC_Example.mat')  # Load the data,\n",
    "# Data available here\n",
    "# https://github.com/Mark-Kramer/BU-MA665-MA666/tree/master/Data\n",
    "#\n",
    "d = data['d'][0]                # ... from the first electrode.\n",
    "t = data['t'][0]              # Load the time axis\n",
    "N = np.size(d,0)              # Store number of observations.\n",
    "dt = t[1]-t[0]                # Store sampling interval."
   ]
  },
  {
   "cell_type": "markdown",
   "metadata": {},
   "source": [
    "## Load the data and look at it.\n",
    "\n",
    "**Q.** Do you see rhythms?\n",
    "\n",
    "### Conclusions\n",
    "\n",
    "* \n",
    "* "
   ]
  },
  {
   "cell_type": "code",
   "execution_count": null,
   "metadata": {},
   "outputs": [],
   "source": [
    "# Code to compute the spectrum."
   ]
  },
  {
   "cell_type": "markdown",
   "metadata": {},
   "source": [
    "## Compute the spectrum.\n",
    "\n",
    "**Q.** What do you find? What rhythms are present in the data?\n",
    "\n",
    "### Conclusions\n",
    "\n",
    "* \n",
    "* "
   ]
  },
  {
   "cell_type": "code",
   "execution_count": null,
   "metadata": {},
   "outputs": [],
   "source": [
    "# Code to compute the autocovariance."
   ]
  },
  {
   "cell_type": "markdown",
   "metadata": {},
   "source": [
    "## Compute the autocovariance.\n",
    "\n",
    "**Q.** What do you find? Is it consistent with the spectrum?\n",
    "\n",
    "### Conclusions\n",
    "\n",
    "* \n",
    "* "
   ]
  },
  {
   "cell_type": "markdown",
   "metadata": {},
   "source": [
    "## Example: Spectrum = FT{Autocovariance}"
   ]
  },
  {
   "cell_type": "markdown",
   "metadata": {},
   "source": [
    "Make a simple signal."
   ]
  },
  {
   "cell_type": "code",
   "execution_count": null,
   "metadata": {},
   "outputs": [],
   "source": [
    "dt = 0.001\n",
    "N  = 1000\n",
    "t  = np.arange(0,N)*dt\n",
    "d  = np.sin(2*np.pi*10*t) + np.random.randn(N)"
   ]
  },
  {
   "cell_type": "markdown",
   "metadata": {},
   "source": [
    "Compute the autocovariance with a modifications: circular-shift the data"
   ]
  },
  {
   "cell_type": "code",
   "execution_count": null,
   "metadata": {},
   "outputs": [],
   "source": [
    "rxx = [];\n",
    "lags = np.arange(-int(N/2),int(N/2));\n",
    "for idx,L in enumerate(lags):\n",
    "    rxx = np.append(rxx, 1/N*np.sum(np.roll(d,L) * d))\n",
    "plt.plot(lags, rxx)\n",
    "plt.xlabel('Lags [indices]');\n",
    "plt.ylabel('Autocovariance rxx');"
   ]
  },
  {
   "cell_type": "markdown",
   "metadata": {},
   "source": [
    "Compute the spectrum via FT and directly from the data."
   ]
  },
  {
   "cell_type": "code",
   "execution_count": null,
   "metadata": {},
   "outputs": [],
   "source": [
    "# Compute the spectrum from the FT{rxx}\n",
    "Sxx_via_rxx = 2*dt*np.fft.fft(rxx)\n",
    "\n",
    "# Compute the spectrum from the data.\n",
    "T   = t[-1];\n",
    "xf  = np.fft.fft(d);\n",
    "Sxx = 2 * dt ** 2 / T * (xf * xf.conj()) \n",
    "\n",
    "plt.plot(10*np.log10(Sxx))\n",
    "plt.plot(10*np.log10(Sxx_via_rxx), 'o')\n",
    "plt.xlabel('Freq Index')\n",
    "plt.legend({'Direct Sxx', 'Sxx via rxx'})\n",
    "plt.xlim([0,150]);"
   ]
  }
 ],
 "metadata": {
  "kernelspec": {
   "display_name": "Python 3 (ipykernel)",
   "language": "python",
   "name": "python3"
  },
  "language_info": {
   "codemirror_mode": {
    "name": "ipython",
    "version": 3
   },
   "file_extension": ".py",
   "mimetype": "text/x-python",
   "name": "python",
   "nbconvert_exporter": "python",
   "pygments_lexer": "ipython3",
   "version": "3.12.4"
  }
 },
 "nbformat": 4,
 "nbformat_minor": 4
}
