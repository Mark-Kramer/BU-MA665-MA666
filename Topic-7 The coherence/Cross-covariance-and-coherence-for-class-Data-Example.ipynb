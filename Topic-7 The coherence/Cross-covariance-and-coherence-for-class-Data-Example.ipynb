{
 "cells": [
  {
   "cell_type": "markdown",
   "metadata": {},
   "source": [
    "# Analyze an example data set"
   ]
  },
  {
   "cell_type": "code",
   "execution_count": null,
   "metadata": {},
   "outputs": [],
   "source": [
    "# Load modules we'll need.\n",
    "\n",
    "from scipy.io import loadmat\n",
    "import matplotlib.pyplot as plt\n",
    "import numpy as np\n",
    "from scipy.signal import spectrogram"
   ]
  },
  {
   "cell_type": "markdown",
   "metadata": {},
   "source": [
    "## Load the data and look at it.\n",
    "\n",
    "**Q.** Do the data from the two electrodes appear related?\n",
    "\n",
    "### Conclusions\n",
    "\n",
    "* \n",
    "* "
   ]
  },
  {
   "cell_type": "code",
   "execution_count": null,
   "metadata": {},
   "outputs": [],
   "source": [
    "# Load the data.\n",
    "\n",
    "data = loadmat('ECoG-1.mat')  # Load the data,\n",
    "E1 = data['E1']               # ... from the first electrode,\n",
    "E2 = data['E2']               # ... and from the second electrode.\n",
    "t = data['t'][0]              # Load the time axis\n",
    "K = np.size(E1,0)             # Store number of trials.\n",
    "N = np.size(E1,1)             # Store number of observations.\n",
    "dt = t[1]-t[0]                # Store sampling interval."
   ]
  },
  {
   "cell_type": "markdown",
   "metadata": {},
   "source": [
    "## Compute the (auto-)spectrum for each electrode, for a single trial.\n",
    "\n",
    "**Q.** What do you find? What rhythms are present in the single trial data?\n",
    "\n",
    "**Q.** How else can you visualize the spectrum?\n",
    "\n",
    "### Conclusions\n",
    "\n",
    "* \n",
    "* "
   ]
  },
  {
   "cell_type": "markdown",
   "metadata": {
    "tags": []
   },
   "source": [
    "## Compute the trial-averaged (auto-)spectrum for each electrode.\n",
    "\n",
    "**Q.** Now what do you find? What rhythms are present in the data?\n",
    "\n",
    "**Q.** How else can you visualize the spectrum?\n",
    "\n",
    "### Conclusions\n",
    "\n",
    "* \n",
    "* "
   ]
  },
  {
   "cell_type": "markdown",
   "metadata": {},
   "source": [
    "## Compute the cross-covariance for the *first trial*.\n",
    "\n",
    "**Q.** What do you find? Are the data from the two electrodes \"coupled\" for the first trial?\n",
    "\n",
    "### Conclusions\n",
    "\n",
    "* \n",
    "* "
   ]
  },
  {
   "cell_type": "markdown",
   "metadata": {},
   "source": [
    "## Compute the trial-averaged cross-covariance (averaged over all trials).\n",
    "\n",
    "**Q.** What do you find? Are the data from the two electrodes consistently \"coupled\" across trials?\n",
    "\n",
    "### Conclusions\n",
    "\n",
    "* \n",
    "* "
   ]
  },
  {
   "cell_type": "markdown",
   "metadata": {},
   "source": [
    "## Compute the coherence between the two electrodes\n",
    "\n",
    "**Q.** What do you find? Is there evidence of coherence between the two electrodes?\n",
    "\n",
    "**Q.** How do the coherence results compare to the spectral results?\n",
    "\n",
    "### Conclusions\n",
    "\n",
    "* \n",
    "* "
   ]
  },
  {
   "cell_type": "markdown",
   "metadata": {},
   "source": [
    "## Visualizing the phase difference across trials\n",
    "\n",
    "**Q.** What do you find? Which frequency has the more consistent phase difference across trials?\n",
    "\n",
    "### Conclusions\n",
    "\n",
    "* \n",
    "* "
   ]
  }
 ],
 "metadata": {
  "kernelspec": {
   "display_name": "Python 3",
   "language": "python",
   "name": "python3"
  },
  "language_info": {
   "codemirror_mode": {
    "name": "ipython",
    "version": 3
   },
   "file_extension": ".py",
   "mimetype": "text/x-python",
   "name": "python",
   "nbconvert_exporter": "python",
   "pygments_lexer": "ipython3",
   "version": "3.8.8"
  }
 },
 "nbformat": 4,
 "nbformat_minor": 4
}
