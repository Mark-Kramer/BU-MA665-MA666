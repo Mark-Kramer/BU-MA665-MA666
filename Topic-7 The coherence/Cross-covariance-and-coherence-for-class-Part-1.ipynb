{
 "cells": [
  {
   "cell_type": "code",
   "execution_count": null,
   "metadata": {},
   "outputs": [],
   "source": [
    "# Load modules we'll need.\n",
    "\n",
    "from scipy.io import loadmat\n",
    "import matplotlib.pyplot as plt\n",
    "import numpy as np\n",
    "from scipy.signal import spectrogram\n",
    "%matplotlib osx"
   ]
  },
  {
   "cell_type": "code",
   "execution_count": null,
   "metadata": {},
   "outputs": [],
   "source": [
    "# Make two noise signals.\n",
    "\n",
    "N = 1000;\n",
    "dt= 0.001;\n",
    "T = N*dt;\n",
    "x = np.random.randn(N)\n",
    "y = np.random.randn(N)\n",
    "t = np.arange(0,N)*dt\n",
    "\n",
    "plt.plot(t,x)\n",
    "plt.plot(t,y)\n",
    "plt.xlabel('Time [s]');"
   ]
  },
  {
   "cell_type": "code",
   "execution_count": null,
   "metadata": {},
   "outputs": [],
   "source": [
    "# Compute the auto-covariance.\n",
    "\n",
    "ac_xx = 1 / N * np.correlate(x,x, 'full')    # Compute the covariance.\n",
    "lags = np.arange(-N + 1, N)                  # Create a lag axis,\n",
    "plt.plot(lags * dt, ac_xx)                   # ... and plot the result.\n",
    "plt.xlabel('Lag [s]')\n",
    "plt.ylabel('Autocovariance');\n"
   ]
  },
  {
   "cell_type": "code",
   "execution_count": null,
   "metadata": {},
   "outputs": [],
   "source": [
    "# Compute the cross-covariance.\n",
    "\n",
    "cc_xy = 1 / N * np.correlate(x,y, 'full')    # Compute the covariance.\n",
    "lags = np.arange(-N + 1, N)                  # Create a lag axis,\n",
    "plt.plot(lags * dt, cc_xy)                   # ... and plot the result.\n",
    "plt.ylim([-0.1, 1])\n",
    "plt.xlabel('Lag [s]')\n",
    "plt.ylabel('Cross-covariance');\n"
   ]
  },
  {
   "cell_type": "code",
   "execution_count": null,
   "metadata": {},
   "outputs": [],
   "source": [
    "Xf = np.fft.fft(x - x.mean())           # Compute Fourier transform of x\n",
    "Yf = np.fft.fft(y - y.mean())           # Compute Fourier transform of y\n",
    "\n",
    "# Compute the spectra\n",
    "Sxx = 2 * dt**2 / T * (Xf * Xf.conj())  # Spectrum of E1 trials\n",
    "Syy = 2 * dt**2 / T * (Yf * Yf.conj())  # ... and E2 trials\n",
    "Sxy = 2 * dt**2 / T * (Xf * Yf.conj())  # ... and the cross spectrum\n",
    "\n",
    "# Compute the coherence.\n",
    "cohr = abs(Sxy) / (np.sqrt(Sxx) * np.sqrt(Syy))\n",
    "\n",
    "#f = np.fft.fftfreq(N, dt)  # Define a frequency axis.\n",
    "plt.plot(cohr.real[0:100])"
   ]
  },
  {
   "cell_type": "code",
   "execution_count": null,
   "metadata": {},
   "outputs": [],
   "source": [
    "cohr.real"
   ]
  },
  {
   "cell_type": "code",
   "execution_count": null,
   "metadata": {},
   "outputs": [],
   "source": []
  }
 ],
 "metadata": {
  "kernelspec": {
   "display_name": "Python 3",
   "language": "python",
   "name": "python3"
  },
  "language_info": {
   "codemirror_mode": {
    "name": "ipython",
    "version": 3
   },
   "file_extension": ".py",
   "mimetype": "text/x-python",
   "name": "python",
   "nbconvert_exporter": "python",
   "pygments_lexer": "ipython3",
   "version": "3.7.4"
  }
 },
 "nbformat": 4,
 "nbformat_minor": 2
}
