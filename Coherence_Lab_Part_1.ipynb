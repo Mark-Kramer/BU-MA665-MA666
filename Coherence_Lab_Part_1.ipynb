{
 "cells": [
  {
   "cell_type": "markdown",
   "metadata": {},
   "source": [
    "---\n",
    "title: Coherence Part 1 (Two noise signals)\n",
    "project:\n",
    "  type: website\n",
    "format:\n",
    "  html:\n",
    "    code-fold: false\n",
    "    code-tools: true\n",
    "jupyter: python 3\n",
    "number-sections: false\n",
    "---"
   ]
  },
  {
   "cell_type": "code",
   "execution_count": null,
   "metadata": {},
   "outputs": [],
   "source": [
    "# Load modules we'll need.\n",
    "from scipy.io import loadmat\n",
    "import matplotlib.pyplot as plt\n",
    "import numpy as np\n",
    "from scipy.signal import spectrogram"
   ]
  },
  {
   "cell_type": "markdown",
   "metadata": {},
   "source": [
    "## Make two noise signals"
   ]
  },
  {
   "cell_type": "code",
   "execution_count": null,
   "metadata": {},
   "outputs": [],
   "source": [
    "N = 1000;\n",
    "dt= 0.001;\n",
    "T = N*dt;\n",
    "x = np.random.randn(N)\n",
    "y = np.random.randn(N)\n",
    "t = np.arange(0,N)*dt\n",
    "\n",
    "plt.plot(t,x)\n",
    "plt.plot(t,y)\n",
    "plt.xlabel('Time [s]');"
   ]
  },
  {
   "cell_type": "markdown",
   "metadata": {},
   "source": [
    "## Compute the cross-covariance"
   ]
  },
  {
   "cell_type": "code",
   "execution_count": null,
   "metadata": {},
   "outputs": [],
   "source": [
    "cc_xy = \"SOMETHING\"                          # Compute the covariance.\n",
    "lags = np.arange(-N + 1, N)                  # Create a lag axis,\n",
    "plt.plot(lags * dt, cc_xy)                   # ... and plot the result.\n",
    "plt.ylim([-0.1, 1])\n",
    "plt.xlabel('Lag [s]')\n",
    "plt.ylabel('Cross-covariance');\n"
   ]
  },
  {
   "cell_type": "markdown",
   "metadata": {},
   "source": [
    "## Compute the coherence"
   ]
  },
  {
   "cell_type": "code",
   "execution_count": null,
   "metadata": {},
   "outputs": [],
   "source": [
    "Xf = np.fft.fft(x - x.mean())           # Compute Fourier transform of x\n",
    "Yf = np.fft.fft(y - y.mean())           # Compute Fourier transform of y\n",
    "\n",
    "# Compute the spectra\n",
    "Sxx = \"SOMETHING\"  # Spectrum of x\n",
    "Syy = \"SOMETHING\"  # ... and y\n",
    "Sxy = \"SOMETHING\"  # ... and the cross spectrum\n",
    "\n",
    "# Compute the coherence.\n",
    "cohr = \"SOMETHING\"\n",
    "\n",
    "# Define a frequency axis.\n",
    "f = np.fft.fftfreq(N, dt)\n",
    "\n",
    "# Plot the result.\n",
    "plt.plot(f, cohr.real)"
   ]
  }
 ],
 "metadata": {
  "kernelspec": {
   "display_name": "Python 3 (ipykernel)",
   "language": "python",
   "name": "python3"
  },
  "language_info": {
   "codemirror_mode": {
    "name": "ipython",
    "version": 3
   },
   "file_extension": ".py",
   "mimetype": "text/x-python",
   "name": "python",
   "nbconvert_exporter": "python",
   "pygments_lexer": "ipython3",
   "version": "3.12.4"
  }
 },
 "nbformat": 4,
 "nbformat_minor": 4
}
