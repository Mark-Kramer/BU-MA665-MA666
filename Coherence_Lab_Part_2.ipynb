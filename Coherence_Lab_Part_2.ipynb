{
 "cells": [
  {
   "cell_type": "markdown",
   "metadata": {},
   "source": [
    "---\n",
    "title: Coherence Part 2 (Two noise signals, again)\n",
    "project:\n",
    "  type: website\n",
    "format:\n",
    "  html:\n",
    "    code-fold: false\n",
    "    code-tools: true\n",
    "jupyter: python 3\n",
    "number-sections: false\n",
    "---"
   ]
  },
  {
   "cell_type": "code",
   "execution_count": null,
   "metadata": {},
   "outputs": [],
   "source": [
    "# Load modules we'll need.\n",
    "\n",
    "from scipy.io import loadmat\n",
    "import matplotlib.pyplot as plt\n",
    "import numpy as np\n",
    "from scipy.signal import spectrogram"
   ]
  },
  {
   "cell_type": "markdown",
   "metadata": {},
   "source": [
    "## Make two noise signals, with multiple trials"
   ]
  },
  {
   "cell_type": "code",
   "execution_count": null,
   "metadata": {},
   "outputs": [],
   "source": [
    "N = 1000;\n",
    "K = 100;\n",
    "dt= 0.001;\n",
    "T = N*dt;\n",
    "x = np.random.randn(K,N)\n",
    "y = np.random.randn(K,N)\n",
    "t = np.arange(0,N)*dt\n",
    "\n",
    "plt.plot(t,x[0,:])\n",
    "plt.plot(t,y[0,:])\n",
    "plt.xlabel('Time [s]');"
   ]
  },
  {
   "cell_type": "markdown",
   "metadata": {},
   "source": [
    "## Visualize the data across all trials"
   ]
  },
  {
   "cell_type": "code",
   "execution_count": null,
   "metadata": {},
   "outputs": [],
   "source": [
    "plt.imshow(x,                             # ... and show the image,\n",
    "           extent=[min(t), max(t), K, 1],  # ... with meaningful axes,\n",
    "           aspect='auto')                  # ... and a nice aspect ratio\n",
    "plt.xlabel('Time [s]')\n",
    "plt.ylabel('Trial #');\n",
    "plt.title('All trials from E1');"
   ]
  },
  {
   "cell_type": "markdown",
   "metadata": {},
   "source": [
    "## Compute the cross-covariance, averaged across trials"
   ]
  },
  {
   "cell_type": "code",
   "execution_count": null,
   "metadata": {},
   "outputs": [],
   "source": [
    "cc_xy = \"SOMETHING\"                          # Compute cc for each trial, \n",
    "cc_xy = np.mean(cc_xy,0)                     # ... average over trials,\n",
    "lags = np.arange(-N + 1, N)                  # ... create a lag axis,\n",
    "plt.plot(lags * dt, cc_xy)                   # ... and plot the result.\n",
    "plt.xlabel('Lag [s]')\n",
    "plt.ylabel('Trial averaged cross-covariance');\n",
    "plt.ylim([-0.1, 1]);"
   ]
  },
  {
   "cell_type": "markdown",
   "metadata": {},
   "source": [
    "## Compute the coherence"
   ]
  },
  {
   "cell_type": "code",
   "execution_count": null,
   "metadata": {},
   "outputs": [],
   "source": [
    "# Fourier transforms.\n",
    "Xf = \"SOMETHING\"  # Compute Fourier transform of x for each trial\n",
    "Yf = \"SOMETHING\"  # Compute Fourier transform of y for each trial\n",
    "\n",
    "# Auto- and cross-spectra.\n",
    "Sxx = \"SOMETHING\"  # Spectrum of x trials\n",
    "Syy = \"SOMETHING\"  # ... and y trials\n",
    "Sxy = \"SOMETHING\"  # ... and the cross spectrum\n",
    "\n",
    "# Trial average.\n",
    "Sxx = np.mean(Sxx,0)\n",
    "Syy = np.mean(Syy,0)\n",
    "Sxy = np.mean(Sxy,0)\n",
    "\n",
    "# Calculate coherence.\n",
    "cohr = \"SOMETHING\"\n",
    "\n",
    "f = np.fft.fftfreq(N, dt)               # Define a frequency axis.\n",
    "plt.plot(f, cohr.real)                  # Plot the coherence.\n",
    "plt.ylim([0, 1.1])                      # ... with y-axis scaled,\n",
    "plt.xlabel('Frequency [Hz]')            # ... and with axes labeled.\n",
    "plt.ylabel('Coherence')\n",
    "plt.title('Trial averaged coherence between two electrodes');"
   ]
  }
 ],
 "metadata": {
  "kernelspec": {
   "display_name": "Python 3 (ipykernel)",
   "language": "python",
   "name": "python3"
  },
  "language_info": {
   "codemirror_mode": {
    "name": "ipython",
    "version": 3
   },
   "file_extension": ".py",
   "mimetype": "text/x-python",
   "name": "python",
   "nbconvert_exporter": "python",
   "pygments_lexer": "ipython3",
   "version": "3.12.4"
  }
 },
 "nbformat": 4,
 "nbformat_minor": 4
}
