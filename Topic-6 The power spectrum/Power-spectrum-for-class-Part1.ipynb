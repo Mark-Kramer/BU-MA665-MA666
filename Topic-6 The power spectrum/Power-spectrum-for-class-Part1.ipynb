{
 "cells": [
  {
   "cell_type": "markdown",
   "metadata": {},
   "source": [
    "## Load the data and look at it."
   ]
  },
  {
   "cell_type": "code",
   "execution_count": null,
   "metadata": {},
   "outputs": [],
   "source": [
    "# Load modules we'll need.\n",
    "\n",
    "from scipy.io import loadmat\n",
    "import matplotlib.pyplot as plt\n",
    "import numpy as np\n",
    "from scipy.signal import spectrogram"
   ]
  },
  {
   "cell_type": "code",
   "execution_count": null,
   "metadata": {},
   "outputs": [],
   "source": [
    "# Load the data.\n",
    "\n",
    "data = loadmat('EEG-1.mat')    # Load the EEG data\n",
    "EEG  = data['EEG'].reshape(-1) # Extract the EEG variable\n",
    "t    = data['t'][0]            # ... and the t variablea"
   ]
  },
  {
   "cell_type": "code",
   "execution_count": null,
   "metadata": {},
   "outputs": [],
   "source": [
    "# Look at it.\n",
    "\n",
    "plt.plot(t,EEG)\n",
    "plt.xlabel('Time [s]')\n",
    "plt.ylabel('EEG');\n",
    "plt.xlim([0.5, 0.75])"
   ]
  },
  {
   "cell_type": "code",
   "execution_count": null,
   "metadata": {},
   "outputs": [],
   "source": [
    "#Q. What is the sampling interval (dt)?\n",
    "\n",
    "dt = [???]\n",
    "print(dt)"
   ]
  },
  {
   "cell_type": "code",
   "execution_count": null,
   "metadata": {},
   "outputs": [],
   "source": [
    "#Q. What is the sampling frequency (f0)?\n",
    "\n",
    "f0 = [???]\n",
    "print(f0)"
   ]
  },
  {
   "cell_type": "code",
   "execution_count": null,
   "metadata": {},
   "outputs": [],
   "source": [
    "#Q. What is the number of points in the data (N)?\n",
    "\n",
    "N = np.size(EEG)\n",
    "print(N)"
   ]
  },
  {
   "cell_type": "code",
   "execution_count": null,
   "metadata": {},
   "outputs": [],
   "source": [
    "#Q. What is the total time of the observation (T)?\n",
    "\n",
    "T = [???]\n",
    "print(T)"
   ]
  },
  {
   "cell_type": "code",
   "execution_count": null,
   "metadata": {},
   "outputs": [],
   "source": [
    "# Compute the spectrum \"by hand\".\n",
    "\n",
    "# Q. What is the Nyquist frequency and frequency resolution?\n",
    "fNQ = [???]\n",
    "df  = [???]\n",
    "\n",
    "# Q. What is the frequency axis?\n",
    "fj  = np.arange(0,fNQ,df)\n",
    "\n",
    "# Then, compute the Fourier transform \"by hand\".\n",
    "x = EEG\n",
    "X = np.ndarray(np.size(fj), complex);\n",
    "for j in range( np.size(fj) ):\n",
    "    X[j] = np.sum(x * [???])\n",
    "\n",
    "# And the spectrum,\n",
    "\n",
    "Sxx = [???]\n",
    "\n",
    "# Plot it,\n",
    "\n",
    "plot(fj, Sxx.real)\n",
    "plt.xlim([0, 100])                          # Select frequency range\n",
    "plt.xlabel('Frequency [Hz]')                # Label the axes\n",
    "plt.ylabel('Power [$\\mu V^2$/Hz]');"
   ]
  },
  {
   "cell_type": "code",
   "execution_count": null,
   "metadata": {},
   "outputs": [],
   "source": [
    "# Compute the power spectrum using the FFT function.\n",
    "\n",
    "x  = EEG\n",
    "xf = np.fft.fft(x)                        # Compute Fourier transform of x\n",
    "Sxx = 2 * dt ** 2 / T * (xf * xf.conj())  # Compute spectrum\n",
    "Sxx = Sxx[0:int(N / 2)].real              # Ignore negative frequencies"
   ]
  },
  {
   "cell_type": "code",
   "execution_count": null,
   "metadata": {},
   "outputs": [],
   "source": [
    "# Define the frequency axis\n",
    "\n",
    "df  = [???]                  # Determine frequency resolution\n",
    "fNQ = [???]                  # Determine Nyquist frequency\n",
    "faxis = np.arange(0,fNQ,df)  # Construct frequency axis"
   ]
  },
  {
   "cell_type": "code",
   "execution_count": null,
   "metadata": {},
   "outputs": [],
   "source": [
    "# Plot the spectrum versus frequency.\n",
    "# Q. What do you see?\n",
    "\n",
    "plt.plot(faxis, Sxx)\n",
    "plt.xlim([0, 100])                          # Select frequency range\n",
    "plt.xlabel('Frequency [Hz]')                # Label the axes\n",
    "plt.ylabel('Power [$\\mu V^2$/Hz]');"
   ]
  },
  {
   "cell_type": "code",
   "execution_count": null,
   "metadata": {},
   "outputs": [],
   "source": [
    "# Plot the spectrum versus frequency on a decibel scale.\n",
    "# Q. Now what do you see?\n",
    "\n",
    "plt.figure()\n",
    "plt.plot(faxis, [???])   # Plot the spectrum in decibels.\n",
    "plt.xlim([0, 100])                               # Select the frequency range.\n",
    "plt.ylim([-60, 0])                               # Select the decibel range.\n",
    "plt.xlabel('Frequency [Hz]')                     # Label the axes.\n",
    "plt.ylabel('Power [dB]');"
   ]
  },
  {
   "cell_type": "code",
   "execution_count": null,
   "metadata": {},
   "outputs": [],
   "source": [
    "# Plot the spectrum versus frequency on a logarithmic frequency axis.\n",
    "# Q. And now what do you see?\n",
    "\n",
    "plt.figure()\n",
    "plt.[???]                                            # Log-log scale\n",
    "plt.xlim([df, 100])                                  # Select frequency range\n",
    "plt.ylim([-60, 0])                                   # ... and the decibel range.\n",
    "plt.xlabel('Frequency [Hz]')                         # Label the axes.\n",
    "plt.ylabel('Power [dB]');"
   ]
  }
 ],
 "metadata": {
  "kernelspec": {
   "display_name": "Python 3",
   "language": "python",
   "name": "python3"
  },
  "language_info": {
   "codemirror_mode": {
    "name": "ipython",
    "version": 3
   },
   "file_extension": ".py",
   "mimetype": "text/x-python",
   "name": "python",
   "nbconvert_exporter": "python",
   "pygments_lexer": "ipython3",
   "version": "3.8.8"
  }
 },
 "nbformat": 4,
 "nbformat_minor": 4
}
