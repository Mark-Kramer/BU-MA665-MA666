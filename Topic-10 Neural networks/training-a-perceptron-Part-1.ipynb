{
 "cells": [
  {
   "cell_type": "markdown",
   "metadata": {},
   "source": [
    "# Training a Perceptron: Data Challenge\n"
   ]
  },
  {
   "cell_type": "markdown",
   "metadata": {},
   "source": [
    "\n",
    "## Load modules\n"
   ]
  },
  {
   "cell_type": "code",
   "execution_count": null,
   "metadata": {},
   "outputs": [],
   "source": [
    "import scipy.io as sio\n",
    "import numpy as np\n",
    "import matplotlib.pyplot as plt"
   ]
  },
  {
   "cell_type": "markdown",
   "metadata": {},
   "source": [
    "## Step 1: Load the data and look at it.\n",
    "\n",
    "**Q.** Examine the training data, what do you find?\n",
    "\n",
    "**Q.** Examine the testing data, what do you find?\n",
    "\n",
    "### Conclusions\n",
    "\n",
    "* \n",
    "* "
   ]
  },
  {
   "cell_type": "code",
   "execution_count": null,
   "metadata": {},
   "outputs": [],
   "source": [
    "data           = sio.loadmat('training_and_testing_values.mat')       # Load the testing and training data\n",
    "x_training     = data['x_training']                                   # ... get the training data,\n",
    "y_training     = data['y_training']                                   # ... get the spike data,\n",
    "correct_answer = data['correct_answer']\n",
    "x_testing      = data['x_testing']\n",
    "y_testing      = data['y_testing']"
   ]
  },
  {
   "cell_type": "code",
   "execution_count": null,
   "metadata": {},
   "outputs": [],
   "source": [
    "plt.plot(x_training[correct_answer==1], y_training[correct_answer==1], '.g')\n",
    "plt.plot(x_training[correct_answer==0], y_training[correct_answer==0], '.r')\n",
    "legend(['= 1', '= 0']);"
   ]
  },
  {
   "cell_type": "markdown",
   "metadata": {},
   "source": [
    "##   Part 2.  Challenge: Classify the testing data.\n",
    "\n",
    "**Q.** Given a new `(x,y)`, what label should we assign?"
   ]
  },
  {
   "cell_type": "code",
   "execution_count": null,
   "metadata": {},
   "outputs": [],
   "source": [
    "# Print an example data point - what label should we assign?\n",
    "print(x_testing[0], y_testing[0])"
   ]
  },
  {
   "cell_type": "code",
   "execution_count": null,
   "metadata": {},
   "outputs": [],
   "source": []
  }
 ],
 "metadata": {
  "kernelspec": {
   "display_name": "Python 3",
   "language": "python",
   "name": "python3"
  },
  "language_info": {
   "codemirror_mode": {
    "name": "ipython",
    "version": 3
   },
   "file_extension": ".py",
   "mimetype": "text/x-python",
   "name": "python",
   "nbconvert_exporter": "python",
   "pygments_lexer": "ipython3",
   "version": "3.6.6"
  }
 },
 "nbformat": 4,
 "nbformat_minor": 2
}
