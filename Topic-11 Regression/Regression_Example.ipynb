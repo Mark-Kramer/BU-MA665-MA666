{
 "cells": [
  {
   "cell_type": "markdown",
   "id": "41bdb213-e3b9-4003-abdf-0fd30a112ce9",
   "metadata": {},
   "source": [
    "## Regression example (Part 1)"
   ]
  },
  {
   "cell_type": "code",
   "execution_count": null,
   "id": "fc09d0f5-c977-4802-bbc9-9de19799ea05",
   "metadata": {},
   "outputs": [],
   "source": [
    "# Load modules\n",
    "import scipy.io as sio\n",
    "import numpy as np\n",
    "import matplotlib.pyplot as plt\n",
    "from scipy.stats import pearsonr\n",
    "import statsmodels.api as sm\n",
    "%matplotlib osx # Mac\n",
    "#%matplotlib qt # Windows"
   ]
  },
  {
   "cell_type": "markdown",
   "id": "cf3b269b-e554-4451-88bd-1c7670fc3ec5",
   "metadata": {},
   "source": [
    "## Load the data"
   ]
  },
  {
   "cell_type": "code",
   "execution_count": null,
   "id": "2dbf3219-2605-4c28-b2af-ba38560e4396",
   "metadata": {},
   "outputs": [],
   "source": [
    "data             = sio.loadmat('example_data.mat')       # Load the experimental data\n",
    "task_performance = data['task_performance']\n",
    "firing_rate      = data['firing_rate']"
   ]
  },
  {
   "cell_type": "markdown",
   "id": "d74a68de-1492-43fc-a84d-38bf546d74d7",
   "metadata": {},
   "source": [
    "## Plot the data"
   ]
  },
  {
   "cell_type": "code",
   "execution_count": null,
   "id": "44744183-40a9-4145-a39a-ec84f3405a98",
   "metadata": {},
   "outputs": [],
   "source": [
    "plt.scatter(firing_rate, task_performance)\n",
    "plt.xlabel('Firing rate [Hz]')\n",
    "plt.ylabel('Task Performance [a.u.]');"
   ]
  },
  {
   "cell_type": "markdown",
   "id": "854d3e14-5334-476f-9086-36a404489489",
   "metadata": {},
   "source": [
    "## Correlation"
   ]
  },
  {
   "cell_type": "code",
   "execution_count": null,
   "id": "dc459872-232c-4170-85ba-2d38213e945a",
   "metadata": {},
   "outputs": [],
   "source": [
    "N = firing_rate[:,0].size\n",
    "x = firing_rate[:,0] - firing_rate[:,0].mean()\n",
    "y = task_performance[:,0] - task_performance[:,0].mean()\n",
    "correlation = 1/N*np.correlate(x,y)/np.std(x)/np.std(y)\n",
    "print(correlation)"
   ]
  },
  {
   "cell_type": "markdown",
   "id": "925ca081-0a27-4092-8886-cf28795297d6",
   "metadata": {},
   "source": [
    "## Regression"
   ]
  },
  {
   "cell_type": "code",
   "execution_count": null,
   "id": "bc4deed7-7843-46c6-8379-19a37fa551c5",
   "metadata": {},
   "outputs": [],
   "source": [
    "from statsmodels.formula.api import ols\n",
    "\n",
    "data = {\"x\": firing_rate, \"y\": task_performance}\n",
    "res = ols(\"y ~1 + x\", data=data).fit()\n",
    "\n",
    "res.summary()"
   ]
  },
  {
   "cell_type": "code",
   "execution_count": null,
   "id": "902c8123-850d-44b5-8536-5741266364a5",
   "metadata": {},
   "outputs": [],
   "source": [
    "print('Params \\n', res.params)\n",
    "print('p-values \\n', res.pvalues)"
   ]
  },
  {
   "cell_type": "code",
   "execution_count": null,
   "id": "cbad2c9c-dab5-4708-a478-edfe97e52ec8",
   "metadata": {},
   "outputs": [],
   "source": [
    "# Get model prediction.\n",
    "pred   = res.get_prediction().summary_frame()\n",
    "mn     = pred['mean']\n",
    "ci_low = pred['mean_ci_lower'] \n",
    "ci_upp = pred['mean_ci_upper']\n",
    "# And plot it.\n",
    "indices_sorted = np.argsort(firing_rate,0)\n",
    "plt.scatter(firing_rate,task_performance)\n",
    "plt.plot(firing_rate[indices_sorted[:,0]],mn[indices_sorted[:,0]], 'r')\n",
    "plt.plot(firing_rate[indices_sorted[:,0]],ci_low[indices_sorted[:,0]], ':r')\n",
    "plt.plot(firing_rate[indices_sorted[:,0]],ci_upp[indices_sorted[:,0]], ':r')\n",
    "plt.xlabel('Firing rate [Hz]')\n",
    "plt.ylabel('Task Performance [a.u.]');"
   ]
  },
  {
   "cell_type": "markdown",
   "id": "961dacc7-0a12-4568-91f6-63f72fac5110",
   "metadata": {},
   "source": [
    "---\n",
    "## Regression example (Part 2)"
   ]
  },
  {
   "cell_type": "code",
   "execution_count": null,
   "id": "7bdccee9-c6a1-4f2c-ab3e-51bae281a299",
   "metadata": {},
   "outputs": [],
   "source": [
    "## Load the data\n",
    "data             = sio.loadmat('example_data.mat')       # Load the experimental data\n",
    "task_performance = data['task_performance']\n",
    "firing_rate      = data['firing_rate']\n",
    "age              = data['age']"
   ]
  },
  {
   "cell_type": "markdown",
   "id": "9aa87b33-cc9a-4b05-b24d-28e017f086ee",
   "metadata": {},
   "source": [
    "## Plot it\n",
    "\n",
    "Plot `age` versus `task_performance`"
   ]
  },
  {
   "cell_type": "code",
   "execution_count": null,
   "id": "eb3c92a3-47fb-4a22-84ce-c30ea3892c49",
   "metadata": {},
   "outputs": [],
   "source": []
  },
  {
   "cell_type": "markdown",
   "id": "778f0827-6d6f-4812-9b17-0273ef64f40d",
   "metadata": {},
   "source": [
    "## Correlation\n",
    "\n",
    "Compute correlation between `age` and `task_performance`"
   ]
  },
  {
   "cell_type": "code",
   "execution_count": null,
   "id": "4ea53c35-badb-44d2-b32b-7153e5dbaffa",
   "metadata": {},
   "outputs": [],
   "source": []
  },
  {
   "cell_type": "markdown",
   "id": "29006d51-cf15-408a-a167-36f1544da0f5",
   "metadata": {},
   "source": [
    "## Regression (3D)\n",
    "\n",
    "Build the statistial model ..."
   ]
  },
  {
   "cell_type": "code",
   "execution_count": null,
   "id": "fa1b3083-37bd-407b-a526-31c071f8a884",
   "metadata": {},
   "outputs": [],
   "source": [
    "from statsmodels.formula.api import ols\n"
   ]
  },
  {
   "cell_type": "code",
   "execution_count": null,
   "id": "6cb51fd3-418a-4ff3-b836-1c8af168e69e",
   "metadata": {},
   "outputs": [],
   "source": [
    "# And plot the mean model fit."
   ]
  }
 ],
 "metadata": {
  "kernelspec": {
   "display_name": "Python 3",
   "language": "python",
   "name": "python3"
  },
  "language_info": {
   "codemirror_mode": {
    "name": "ipython",
    "version": 3
   },
   "file_extension": ".py",
   "mimetype": "text/x-python",
   "name": "python",
   "nbconvert_exporter": "python",
   "pygments_lexer": "ipython3",
   "version": "3.8.8"
  }
 },
 "nbformat": 4,
 "nbformat_minor": 5
}
