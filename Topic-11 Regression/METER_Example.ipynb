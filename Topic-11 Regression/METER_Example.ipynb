{
 "cells": [
  {
   "cell_type": "markdown",
   "id": "4e6e7703-1b2d-440c-8c37-ae9b7b90c0c7",
   "metadata": {},
   "source": [
    "# Regression example"
   ]
  },
  {
   "cell_type": "code",
   "execution_count": null,
   "id": "69ac5161-05ea-4459-817c-de86221f90e7",
   "metadata": {},
   "outputs": [],
   "source": [
    "# Load modules\n",
    "import scipy.io as sio\n",
    "import numpy as np\n",
    "import matplotlib.pyplot as plt\n",
    "from scipy.stats import pearsonr\n",
    "import statsmodels.api as sm\n",
    "import plotly.graph_objects as go"
   ]
  },
  {
   "cell_type": "markdown",
   "id": "6cbe9c30-5be1-4bed-be53-33a0840e7793",
   "metadata": {},
   "source": [
    "## 1. The data: swim lessons versus drownings.\n",
    "\n",
    "You receive data from a federal organization interested in understanding the impact of swimming lessons on swim safety. The data consist of the following information from in `N = 299` communities:\n",
    "\n",
    "* `swim_lessons` - the number of swim lessons in a community,\n",
    "\n",
    "* `drownings`   - the number of drownings (per 100,000 individuals) in a community,\n",
    "\n",
    "* `xy` - the geographic location (latitude and longitude) of the community,"
   ]
  },
  {
   "cell_type": "code",
   "execution_count": null,
   "id": "ae8c5a8f-4036-465c-9313-4dd970f483f4",
   "metadata": {},
   "outputs": [],
   "source": [
    "# Load the data.\n",
    "\n",
    "data         = sio.loadmat('swim_lesson_data.mat')       # Load the data\n",
    "swim_lessons = data['swim_lessons']                      # ... and define the variables.\n",
    "drownings    = data['drownings']\n",
    "xy           = data['xy']"
   ]
  },
  {
   "cell_type": "markdown",
   "id": "b9c78347-4e63-4c15-a016-614afa5c5c6c",
   "metadata": {},
   "source": [
    "We're interested in understanding the relationship (if any) between `swim_lessons` and `drownings`.\n",
    "\n",
    "Let's start by plotting the data."
   ]
  },
  {
   "cell_type": "code",
   "execution_count": null,
   "id": "bfca4a71-beee-44b7-b1e3-bf1158bb93ea",
   "metadata": {},
   "outputs": [],
   "source": [
    "# Plot the data.\n",
    "\n",
    "plt.figure(figsize=(12, 8))\n",
    "plt.scatter(swim_lessons, drownings)\n",
    "plt.xlabel('Swim Lessons')\n",
    "plt.ylabel('Drownings');"
   ]
  },
  {
   "cell_type": "markdown",
   "id": "3aea9c5d-3d71-450a-8015-93314891f1ac",
   "metadata": {},
   "source": [
    "<div class=\"alert alert-block alert-info\">\n",
    "\n",
    "**Q:** What do you observe?\n",
    "\n",
    "**A:**\n",
    "\n",
    "</div>"
   ]
  },
  {
   "cell_type": "markdown",
   "id": "5a54d731-5f6c-47a5-ae2f-56abba5a4a50",
   "metadata": {},
   "source": [
    "---\n",
    "Let's also plot the geographic location of each community."
   ]
  },
  {
   "cell_type": "code",
   "execution_count": null,
   "id": "c7863700-1757-4de2-b54f-8096adb73b9a",
   "metadata": {},
   "outputs": [],
   "source": [
    "# Example x-y coordinates\n",
    "x_coordinates = xy[:,1]\n",
    "y_coordinates = xy[:,0]\n",
    "# Create a scattermapbox trace\n",
    "trace = go.Scattermapbox(\n",
    "    lat=y_coordinates,\n",
    "    lon=x_coordinates,\n",
    "    mode='markers',\n",
    "    marker=dict(\n",
    "        size=10,\n",
    "        color='red',\n",
    "        opacity=0.5\n",
    "    ),\n",
    ")\n",
    "\n",
    "# Define the layout for the map\n",
    "layout = go.Layout(\n",
    "    mapbox=dict(\n",
    "        center=dict(lat=sum(y_coordinates)/len(y_coordinates), lon=sum(x_coordinates)/len(x_coordinates)),\n",
    "        zoom=9,\n",
    "        style='open-street-map'  # You can change the map style\n",
    "    ),\n",
    "    title='Communities in Study'\n",
    ")\n",
    "\n",
    "# Create the figure\n",
    "fig = go.Figure(data=[trace], layout=layout);\n",
    "fig.update_layout(width=800, height=600);\n",
    "\n",
    "# Show the plot\n",
    "fig.show();"
   ]
  },
  {
   "cell_type": "markdown",
   "id": "684e6d26-43be-4feb-8ce5-a7316abf8026",
   "metadata": {},
   "source": [
    "<div class=\"alert alert-block alert-info\">\n",
    "\n",
    "**Q:** What do you observe?\n",
    "\n",
    "**A:**\n",
    "    \n",
    "</div>"
   ]
  },
  {
   "cell_type": "markdown",
   "id": "50d5779c-eeef-4acd-bbc7-f6c41e1c758d",
   "metadata": {},
   "source": [
    "---\n",
    "---\n",
    "\n",
    "## 2. Make an inference: how do more swim lessons relate to drownings?\n",
    "\n",
    "Now, let's make an **inference** (i.e., draw a scientific conclusion) from these data. In general, our goal is to infer from the noisy data a meaningful feature that's simpler than the data itself.\n",
    "\n",
    "There are many ways to do so.\n",
    "\n",
    "Here, we'd like to understand if there's a relationship between `swim_lessons` and `drownings`.\n",
    "\n",
    "To do so, let's **fit a line** to the data. The slope of the line (a single number) provides an estimate of the relationship between the number of `drowings` and `swim_lessons`."
   ]
  },
  {
   "cell_type": "code",
   "execution_count": null,
   "id": "2d216d85-c6aa-4954-999a-7f9b650f2022",
   "metadata": {},
   "outputs": [],
   "source": [
    "# Estimate a line from the data using regression.\n",
    "\n",
    "from statsmodels.formula.api import ols\n",
    "\n",
    "dat                = {\"x\": swim_lessons, \"y\": drownings}\n",
    "regression_results = ols(\"y ~ 1 + x\", data=dat).fit()"
   ]
  },
  {
   "cell_type": "markdown",
   "id": "54f802a0-5093-4a9d-b9bb-392519ecfe78",
   "metadata": {},
   "source": [
    "<div class=\"alert alert-block alert-info\">\n",
    "\n",
    "**Q:** Can you see the equation for the line in the code above?\n",
    "\n",
    "**A:**\n",
    "    \n",
    "</div>"
   ]
  },
  {
   "cell_type": "markdown",
   "id": "b1e52aa0-24d7-48f2-bb5a-34ebbbc4442c",
   "metadata": {},
   "source": [
    "---\n",
    "Now, with the line estimated, let's print the estimated slope and its p-value."
   ]
  },
  {
   "cell_type": "code",
   "execution_count": null,
   "id": "4c62ae05-f53d-4801-929d-78112eeb61d9",
   "metadata": {},
   "outputs": [],
   "source": [
    "print('Slope estimate =',regression_results.params[1])\n",
    "print('p-value        =',regression_results.pvalues[1])"
   ]
  },
  {
   "cell_type": "markdown",
   "id": "7bb81968-3f34-41cf-91d4-cd04188ef431",
   "metadata": {},
   "source": [
    "<div class=\"alert alert-block alert-info\">\n",
    "\n",
    "**Q:** Interpert the results ... what does this mean?\n",
    "\n",
    "**A:** We find a highly significant (p<<0.05) positive, relationship between swim lessons and drownings. There's now a strong temptation to stop our analysis ... we've found a result of high significance, certainly a result passable for publication. But, let's continue ...\n",
    "    \n",
    "</div>"
   ]
  },
  {
   "cell_type": "markdown",
   "id": "79a18408-d5a6-4bb8-923e-7bb16c6a177a",
   "metadata": {},
   "source": [
    "---\n",
    "Let's also **visualize** the estimated line by plotting it with the data."
   ]
  },
  {
   "cell_type": "code",
   "execution_count": null,
   "id": "d684a36c-c1aa-4c7d-8509-aafddebcf359",
   "metadata": {},
   "outputs": [],
   "source": [
    "# Get model prediction.\n",
    "pred   = regression_results.get_prediction().summary_frame()\n",
    "mn     = pred['mean']\n",
    "ci_low = pred['mean_ci_lower'] \n",
    "ci_upp = pred['mean_ci_upper']\n",
    "\n",
    "# And plot it.\n",
    "indices_sorted = np.argsort(swim_lessons,0)\n",
    "plt.figure(figsize=(12, 8))\n",
    "plt.scatter(swim_lessons,drownings)\n",
    "plt.plot(swim_lessons[indices_sorted[:,0]],mn[indices_sorted[:,0]], 'r')\n",
    "plt.plot(swim_lessons[indices_sorted[:,0]],ci_low[indices_sorted[:,0]], ':r')\n",
    "plt.plot(swim_lessons[indices_sorted[:,0]],ci_upp[indices_sorted[:,0]], ':r')\n",
    "plt.xlabel('Swim lessons')\n",
    "plt.ylabel('Drownings');"
   ]
  },
  {
   "cell_type": "markdown",
   "id": "ae63d131-9ba1-4ed1-9277-baf8dae069c3",
   "metadata": {},
   "source": [
    "<div class=\"alert alert-block alert-info\">\n",
    "\n",
    "**Q:** Again, interpert the results of your estimation ... what does this mean?\n",
    "\n",
    "**A:**\n",
    "\n",
    "</div>"
   ]
  },
  {
   "cell_type": "markdown",
   "id": "55b1f7f0-c27d-4e40-8614-ba78dc87ff34",
   "metadata": {},
   "source": [
    "---\n",
    "---"
   ]
  },
  {
   "cell_type": "markdown",
   "id": "5c6d4666-deb2-4e8d-887e-91dbc391ad5b",
   "metadata": {},
   "source": [
    "## 3. Something’s not right … evaluate your evaluation method.\n",
    "\n",
    "To look for a relationship between `swim_lessons` and `drownings`, we chose a particular model of the relationship - we fit a line to the data. But, was this a good choice?\n",
    "\n",
    "An important step in any analysis is to **check our model**.\n",
    "\n",
    "To do so, let's look at the difference between the estimated drownings from the line and the actual values for `drownings`, i.e., let's look at the **residuals**.\n",
    "\n",
    "If the model is a good fit to the data, then we expect a patternless set of residuals (i.e., the residuals are \"just noise\" around our good model fit to the data).\n",
    "\n",
    "Alternatively, if we find patterns in the residuals, we might wonder about our model choice, and consider strategies to improve our model.\n",
    "\n",
    "To start let's plot the model errors (i.e., the residuals)..."
   ]
  },
  {
   "cell_type": "code",
   "execution_count": null,
   "id": "14d786c3-4865-4533-9361-64227c58d419",
   "metadata": {},
   "outputs": [],
   "source": [
    "residuals = regression_results.resid\n",
    "plt.figure(figsize=(12, 8))\n",
    "plt.plot(residuals, '*')\n",
    "plt.xlabel('Index')\n",
    "plt.ylabel('Residuals');"
   ]
  },
  {
   "cell_type": "markdown",
   "id": "78cfac8a-9331-42d5-afaf-98c3ec246ff3",
   "metadata": {},
   "source": [
    "<div class=\"alert alert-block alert-info\">\n",
    "\n",
    "**Q:** What do you see in the residuals ... do you see any patterns?\n",
    "\n",
    "**A:**\n",
    "\n",
    "</div>"
   ]
  },
  {
   "cell_type": "markdown",
   "id": "9503d991-ce1f-4699-843d-de48b051b88d",
   "metadata": {},
   "source": [
    "---\n",
    "In the plot above, no systematic patterns are obvious; instead, the residuals appear to fluctuate around 0.\n",
    "\n",
    "However, this visualization of the residuals is *not* very informative; the horizontal axis (the variable `index`) is arbitrary.\n",
    "\n",
    "To observe systematic patterns in the residuals, let's plot the `residuals` versus the predictor in our model: the number of `swim_lessons`."
   ]
  },
  {
   "cell_type": "code",
   "execution_count": null,
   "id": "8e050db0-070a-4ae9-b90e-a8705dabd7c0",
   "metadata": {},
   "outputs": [],
   "source": [
    "plt.figure(figsize=(12, 8))\n",
    "plt.scatter(swim_lessons, residuals)\n",
    "plt.xlabel('Number of swim lessons')\n",
    "plt.ylabel('Model residuals');"
   ]
  },
  {
   "cell_type": "markdown",
   "id": "1abcc486-d67d-4e4f-8ed0-22ce9e0aca70",
   "metadata": {},
   "source": [
    "<div class=\"alert alert-block alert-info\">\n",
    "\n",
    "**Q:** Now, do the residuals look patternless? What patterns do you see?\n",
    "\n",
    "**A:**\n",
    "\n",
    "</div>"
   ]
  },
  {
   "cell_type": "markdown",
   "id": "61c75fc0-9cd5-4669-a7a3-8bbbe4f20869",
   "metadata": {},
   "source": [
    "Our inspection of `residuals` versus `swim_lessons` reveals two clear patterns:\n",
    "\n",
    "- as `swim_lessons` increases, a systematic decrease in the `residuals`,\n",
    "- as `swim_lessons` increases, the variability of the `residuals` tends to increase.\n",
    "\n",
    "We conclude from this **model check** that something isn't right ... our model doesn't adequately describe features in the data."
   ]
  },
  {
   "cell_type": "markdown",
   "id": "09c0862e-7448-4561-883d-3d4ca8f6c41e",
   "metadata": {},
   "source": [
    "<div class=\"alert alert-block alert-info\">\n",
    "\n",
    "**Q:** We've plotted the `residuals` versus the predictor `swim_lessons`, but we could also plot\n",
    "    `residuals` versus the outcome variable `drownings`. Doing so, what do you see?\n",
    "\n",
    "**A:**\n",
    "\n",
    "</div>"
   ]
  },
  {
   "cell_type": "markdown",
   "id": "ee6e20db-5dc6-4649-97bb-0295d0bebc38",
   "metadata": {},
   "source": [
    "---\n",
    "So far, we've investigated how the `residuals` vary with the predictor `swim_lessons` or outcome `drownings`.\n",
    "\n",
    "But, we have more information: we also have the geographic location (latitude and longitude) of each community in the study.\n",
    "\n",
    "Let's investigate how the `residuals` relate to the geographic location of the community."
   ]
  },
  {
   "cell_type": "code",
   "execution_count": null,
   "id": "bd8526d7-dbd1-4555-b7f0-58605035dbcb",
   "metadata": {},
   "outputs": [],
   "source": [
    "import plotly.graph_objects as go\n",
    "\n",
    "# Example x-y coordinates\n",
    "x_coordinates = xy[:,1]\n",
    "y_coordinates = xy[:,0]\n",
    "# Create a scattermapbox trace\n",
    "trace = go.Scattermapbox(\n",
    "    lat=y_coordinates,\n",
    "    lon=x_coordinates,\n",
    "    mode='markers',\n",
    "    marker=dict(\n",
    "        size=10,\n",
    "        color=residuals.to_numpy(),\n",
    "        colorscale='RdYlBu',  # Choose a colorscale (Red-Blue in this case)\n",
    "        cmin=-0.25, #min(residuals.to_numpy()),\n",
    "        cmax= 0.25, #max(residuals.to_numpy()),\n",
    "        colorbar=dict(title='Variable'),\n",
    "        opacity=0.6\n",
    "    ),\n",
    ")\n",
    "\n",
    "# Define the layout for the map\n",
    "layout = go.Layout(\n",
    "    mapbox=dict(\n",
    "        center=dict(lat=sum(y_coordinates)/len(y_coordinates), lon=sum(x_coordinates)/len(x_coordinates)),\n",
    "        zoom=9,\n",
    "        style='open-street-map'  # You can change the map style\n",
    "    ),\n",
    "    title='X-Y Coordinates on Map'\n",
    ")\n",
    "\n",
    "# Create the figure\n",
    "fig = go.Figure(data=[trace], layout=layout)\n",
    "fig.update_layout(width=800, height=600)\n",
    "\n",
    "# Show the plot\n",
    "fig.show()"
   ]
  },
  {
   "cell_type": "markdown",
   "id": "ab94eebe-e70a-4dec-b256-52b3e84d924f",
   "metadata": {},
   "source": [
    "<div class=\"alert alert-block alert-info\">\n",
    "\n",
    "**Q:** Do the residuals look patternless? Do you see any patterns in the residuals that depend on location?\n",
    "\n",
    "**A:**\n",
    "    \n",
    "</div>"
   ]
  },
  {
   "cell_type": "markdown",
   "id": "64634ce8-ca6b-4c01-96fa-b7c46527c7b5",
   "metadata": {},
   "source": [
    "---\n",
    "---\n",
    "## 4. Improve your scientific conclusions by improving your inference strategy.\n",
    "\n",
    "Our results so far are not encouraging.\n",
    "\n",
    "We're finding a significant, positive relationship between `swim_lessons` and `drownings`\n",
    "\n",
    "(i.e., with *more* swim lessons there are *more* drownings).\n",
    "\n",
    "How can this be?\n",
    "\n",
    "By performing our **model check**, we found patterns in the model errors (i.e., in the `residuals`).\n",
    "\n",
    "In particular, we noticed a spatial pattern in the residuals:\n",
    "- positive residuals near the coast,\n",
    "- negative resiudals away from the coast.\n",
    "\n",
    "This pattern in the residuals suggests our model is missing an important factor."
   ]
  },
  {
   "cell_type": "markdown",
   "id": "f9bd8846-5f84-4a65-8c41-03a027dfee1f",
   "metadata": {},
   "source": [
    "<div class=\"alert alert-block alert-info\">\n",
    "\n",
    "**Q:** What is missing from the model?\n",
    "\n",
    "**A:**\n",
    "\n",
    "</div>"
   ]
  },
  {
   "cell_type": "markdown",
   "id": "54a9c5e8-9176-421d-b1fd-5bed0c93469b",
   "metadata": {},
   "source": [
    "---\n",
    "\n",
    "The pattern in the residuls suggests we model `drownings` with two predictors\n",
    "\n",
    "1. The number of swim lessons (`swim_lessons`), and\n",
    "2. The distance from the ocean (`distance_from_ocean`).\n",
    "\n",
    "To do so, let's fit a \"2-dimensional line\" (i.e., a plane) to the data."
   ]
  },
  {
   "cell_type": "code",
   "execution_count": null,
   "id": "db8b800b-ef23-49e3-93ab-e9bbc4069a16",
   "metadata": {},
   "outputs": [],
   "source": [
    "# Load the additional variable,\n",
    "\n",
    "distance_from_ocean = data['distance_from_ocean']\n",
    "\n",
    "# And, fit the 2-dimensional line\n",
    "\n",
    "dat = {\"w\": distance_from_ocean, \"x\": swim_lessons, \"y\": drownings}\n",
    "regression_results_2_predictor = ols(\"y ~1 + w + x\", data=dat).fit()"
   ]
  },
  {
   "cell_type": "markdown",
   "id": "e9e88b3b-69d9-4f8e-8613-9696b20a7257",
   "metadata": {},
   "source": [
    "<div class=\"alert alert-block alert-info\">\n",
    "\n",
    "**Q:** Can you see the equation for the 2-dimensional line in the code above?\n",
    "\n",
    "**A:**\n",
    "\n",
    "</div>"
   ]
  },
  {
   "cell_type": "markdown",
   "id": "2317c1df-556b-4325-906b-2e0b46ea61c7",
   "metadata": {},
   "source": [
    "---\n",
    "Now, with the 2-dimensional line estimated, let's print the estimated slope and p-value for each predictor."
   ]
  },
  {
   "cell_type": "code",
   "execution_count": null,
   "id": "f0d3e0c8-8699-4850-9009-a0cc19bc38cf",
   "metadata": {},
   "outputs": [],
   "source": [
    "print('Distance from ocean')\n",
    "print('Slope estimate =',regression_results_2_predictor.params[1])\n",
    "print('p-value        =',regression_results_2_predictor.pvalues[1])\n",
    "\n",
    "print('\\nNumber of swim lessons')\n",
    "print('Slope estimate =',regression_results_2_predictor.params[2])\n",
    "print('p-value        =',regression_results_2_predictor.pvalues[2])"
   ]
  },
  {
   "cell_type": "markdown",
   "id": "9549390a-d7b2-4f46-b5da-8d1830c4a775",
   "metadata": {},
   "source": [
    "<div class=\"alert alert-block alert-info\">\n",
    "\n",
    "**Q:** Interpert the results ... what does this mean?\n",
    "\n",
    "**A:**\n",
    "\n",
    "</div>"
   ]
  },
  {
   "cell_type": "markdown",
   "id": "5ab174a5-e720-49b4-9f50-4912e8f99fd2",
   "metadata": {},
   "source": [
    "---\n",
    "Let's visualize our model, which is now the 2-dimensional plane:\n"
   ]
  },
  {
   "cell_type": "code",
   "execution_count": null,
   "id": "157dabe6-f907-4d79-b350-642a9225cb10",
   "metadata": {},
   "outputs": [],
   "source": [
    "# Create a meshgrid for 3D plotting\n",
    "x1 = np.transpose(distance_from_ocean)[0];\n",
    "x2 = np.transpose(swim_lessons)[0];\n",
    "y  = np.transpose(drownings)[0]; \n",
    "x1_range = np.linspace(x1.min(), x1.max(), 100)\n",
    "x2_range = np.linspace(x2.min(), x2.max(), 100)\n",
    "x1_mesh, x2_mesh = np.meshgrid(x1_range, x2_range)\n",
    "\n",
    "# Predict the response for each point in the meshgrid\n",
    "coefficients = regression_results_2_predictor.params\n",
    "y_pred_mesh = coefficients[0] + coefficients[1] * x1_mesh + coefficients[2] * x2_mesh\n",
    "\n",
    "# Create an interactive 3D plot using plotly\n",
    "fig = go.Figure()\n",
    "\n",
    "# Scatter plot for data points\n",
    "fig.add_trace(go.Scatter3d(\n",
    "    x=x1,\n",
    "    y=x2,\n",
    "    z=y,\n",
    "    mode='markers',\n",
    "    marker=dict(size=5, color='red') #,\n",
    "#    name='Data Points'\n",
    "))\n",
    "\n",
    "# Surface plot for OLS regression surface\n",
    "fig.add_trace(go.Surface(\n",
    "    x=x1_mesh,\n",
    "    y=x2_mesh,\n",
    "    z=y_pred_mesh,\n",
    "    #colorscale='blues',\n",
    "    opacity=0.7,\n",
    "    name='OLS Surface'\n",
    "))\n",
    "\n",
    "# Set layout\n",
    "fig.update_layout(\n",
    "    scene=dict(\n",
    "        xaxis_title='Distance from ocean',\n",
    "        yaxis_title='Swim lessons',\n",
    "        zaxis_title='Drownings',\n",
    "    )\n",
    ")\n",
    "\n",
    "fig.update_layout(width=800, height=600)\n",
    "\n",
    "# Show the interactive plot\n",
    "fig.show()\n",
    "\n",
    "# Show the plot\n",
    "plt.show()"
   ]
  },
  {
   "cell_type": "markdown",
   "id": "34302084-3985-4238-a4a5-592402c94f2c",
   "metadata": {},
   "source": [
    "---\n",
    "Let's **model check** the new model.\n",
    "\n",
    "To do so, let's plot the new model errors (i.e., the `residuals`) versus a predictor in our model (here, the number of `swim_lessons`)."
   ]
  },
  {
   "cell_type": "code",
   "execution_count": null,
   "id": "c6912395-46e2-4e96-9679-1537a26ea9e2",
   "metadata": {},
   "outputs": [],
   "source": [
    "residuals_2_predictor = regression_results_2_predictor.resid\n",
    "plt.figure(figsize=(12, 8))\n",
    "plt.scatter(swim_lessons, residuals_2_predictor)\n",
    "plt.xlabel('Number of swim lessons')\n",
    "plt.ylabel('Model residuals');"
   ]
  },
  {
   "cell_type": "markdown",
   "id": "e6414d08-43e3-43d2-8828-4794d65d35ca",
   "metadata": {},
   "source": [
    "<div class=\"alert alert-block alert-info\">\n",
    "\n",
    "**Q:** Do the residuals look less patterned (compared to our original line fit)? Do you still see any patterns?\n",
    "\n",
    "**A:**\n",
    "    \n",
    "</div>"
   ]
  },
  {
   "cell_type": "markdown",
   "id": "6d47d822-e0c6-4423-a574-004fbace28f0",
   "metadata": {},
   "source": [
    "In this new model, our inspection of `residuals` versus `swim_lessons` reveals\n",
    "\n",
    "- as `swim_lessons` increases, *no* systematic trend in the `residuals`,\n",
    "- as `swim_lessons` increases, the variability of the `residuals` tends to increase.\n",
    "\n",
    "This is a nice improvement compared to our original model. Including the additional variable has reduced a systematic trend in the residuals."
   ]
  },
  {
   "cell_type": "markdown",
   "id": "a0efd641-02bc-4f06-861c-792f83ce246e",
   "metadata": {},
   "source": [
    "---\n",
    "Let's also plot the `residuals` of the new model versus the geographic location."
   ]
  },
  {
   "cell_type": "code",
   "execution_count": null,
   "id": "ec427db1-77bc-443b-8d02-4b6a13f923ef",
   "metadata": {},
   "outputs": [],
   "source": [
    "import plotly.graph_objects as go\n",
    "\n",
    "# Example x-y coordinates\n",
    "x_coordinates = xy[:,1]\n",
    "y_coordinates = xy[:,0]\n",
    "# Create a scattermapbox trace\n",
    "trace = go.Scattermapbox(\n",
    "    lat=y_coordinates,\n",
    "    lon=x_coordinates,\n",
    "    mode='markers',\n",
    "    marker=dict(\n",
    "        size=10,\n",
    "        color=residuals_2_predictor.to_numpy(),\n",
    "        colorscale='RdYlBu',  # Choose a colorscale (Red-Blue in this case)\n",
    "        cmin=-0.25, #min(residuals.to_numpy()),\n",
    "        cmax= 0.25, #max(residuals.to_numpy()),\n",
    "        colorbar=dict(title='Residuals'),\n",
    "        opacity=0.6\n",
    "    ),\n",
    "    #text=['Point 1', 'Point 2', 'Point 3', 'Point 4', 'Point 5']\n",
    ")\n",
    "\n",
    "# Define the layout for the map\n",
    "layout = go.Layout(\n",
    "    mapbox=dict(\n",
    "        center=dict(lat=sum(y_coordinates)/len(y_coordinates), lon=sum(x_coordinates)/len(x_coordinates)),\n",
    "        zoom=9,\n",
    "        style='open-street-map'  # You can change the map style\n",
    "    ),\n",
    "    title='X-Y Coordinates on Map'\n",
    ")\n",
    "\n",
    "# Create the figure\n",
    "fig = go.Figure(data=[trace], layout=layout)\n",
    "fig.update_layout(width=800, height=600)\n",
    "\n",
    "# Show the plot\n",
    "fig.show()"
   ]
  },
  {
   "cell_type": "markdown",
   "id": "23c5189d-ac21-4b03-961d-2b9c0d66c1b0",
   "metadata": {},
   "source": [
    "## 5. You can continue model development and checking to better understand your data and improve your inference.\n",
    "\n",
    "The process of model development can continue as long as you'd like.\n",
    "\n",
    "As you develop new thoughts about your model, or new data, you can include them in the model.\n",
    "\n",
    "With each modification, it's important to **model check**. We do so here by visualizing the residuals.\n",
    "\n",
    "Our updated model removed a systematic trend in the residuals, but another trend remained:\n",
    "\n",
    "- the variance in the residuals increased with the predictor (`swim_lessons`)\n",
    "\n",
    "Let's look once more:"
   ]
  },
  {
   "cell_type": "code",
   "execution_count": null,
   "id": "a4690693-ee5b-419b-b60d-2fa93339d471",
   "metadata": {},
   "outputs": [],
   "source": [
    "plt.figure(figsize=(12, 8))\n",
    "plt.scatter(swim_lessons, residuals_2_predictor)\n",
    "plt.xlabel('Swim lessons')\n",
    "plt.ylabel('Model residuals');"
   ]
  },
  {
   "cell_type": "markdown",
   "id": "68a2aca7-89f9-40fb-a618-18670f93b0c3",
   "metadata": {},
   "source": [
    "This type of trend (increased variance with increasing values) suggests another model modification:\n",
    "\n",
    "replace `drownings` --> `log(drowning)`\n",
    "\n",
    "A log-transformation of the outcome variable has some nice properties:\n",
    "\n",
    "- it's variance normalizing\n",
    "- it's appropriate for positive values concentrated near 0.\n",
    "\n",
    "Let's look at the distribution of values in `drownings`:"
   ]
  },
  {
   "cell_type": "code",
   "execution_count": null,
   "id": "5e160637-5581-4bed-808a-032676305d0b",
   "metadata": {},
   "outputs": [],
   "source": [
    "plt.figure(figsize=(12, 8))\n",
    "plt.hist(drownings, 20);\n",
    "plt.xlabel('Drownings')\n",
    "plt.ylabel('Counts');"
   ]
  },
  {
   "cell_type": "markdown",
   "id": "11201300-db31-44c3-808c-7c22716cc9c3",
   "metadata": {},
   "source": [
    "In this plot, you'll notice:\n",
    "- Most observations of drownings are near 0.\n",
    "- There are a few observations of many drownings (e.g., `drownings` > 2).\n",
    "\n",
    "If instead we look at the distribution of `log(drownings)`"
   ]
  },
  {
   "cell_type": "code",
   "execution_count": null,
   "id": "61c08121-1d81-4157-b22a-13672faa2202",
   "metadata": {},
   "outputs": [],
   "source": [
    "plt.figure(figsize=(12, 8))\n",
    "plt.hist(np.log(drownings), 20);\n",
    "plt.xlabel('log(Drownings)')\n",
    "plt.ylabel('Counts');\n",
    "\n",
    "print(np.log(6))"
   ]
  },
  {
   "cell_type": "markdown",
   "id": "f193ff4e-e8cc-459a-9378-6b8b9de879cd",
   "metadata": {},
   "source": [
    "The log transformation acts to compress large values (i.e., the value 6 becomes 1.79).\n",
    "\n",
    "The resulting distribtion of the transformed observations `log(drownings)` is more symetric.\n",
    "\n",
    "Let's fit the model to these transformed data:"
   ]
  },
  {
   "cell_type": "code",
   "execution_count": null,
   "id": "a2548579-8550-41ed-b78e-4fd636a3e8ba",
   "metadata": {},
   "outputs": [],
   "source": [
    "from statsmodels.formula.api import ols\n",
    "\n",
    "data                 = {\"w\": distance_from_ocean, \"x\": swim_lessons, \"y\": np.log(drownings)}\n",
    "regression_results_3_predictor = ols(\"y ~1 + w + x\", data=data).fit()"
   ]
  },
  {
   "cell_type": "code",
   "execution_count": null,
   "id": "74512cae-4a2b-477c-b18c-d817a5696ce8",
   "metadata": {},
   "outputs": [],
   "source": [
    "print('Distance from ocean')\n",
    "print('Slope estimate =',regression_results_3_predictor.params[1])\n",
    "print('p-value        =',regression_results_3_predictor.pvalues[1])\n",
    "\n",
    "print('\\nNumber of swim lessons')\n",
    "print('Slope estimate =',regression_results_3_predictor.params[2])\n",
    "print('p-value        =',regression_results_3_predictor.pvalues[2])"
   ]
  },
  {
   "cell_type": "markdown",
   "id": "5bf702f7-3070-4ac2-b744-05a938e13165",
   "metadata": {},
   "source": [
    "<div class=\"alert alert-block alert-info\">\n",
    "\n",
    "**Q:** Interpert the results ... what does this mean?\n",
    "\n",
    "**A:**\n",
    "\n",
    "</div>"
   ]
  },
  {
   "cell_type": "markdown",
   "id": "a25318a6-6e7c-4450-828b-23e2b1bf8ee7",
   "metadata": {},
   "source": [
    "And, let's model check by plotting the `residuals` versus the predictor `swim_lessons`."
   ]
  },
  {
   "cell_type": "code",
   "execution_count": null,
   "id": "55e66a3e-ae15-4983-a9a2-c738722a4bdb",
   "metadata": {},
   "outputs": [],
   "source": [
    "residuals = regression_results_3_predictor.resid\n",
    "plt.figure(figsize=(12, 8))\n",
    "plt.scatter(swim_lessons, residuals)\n",
    "plt.xlabel('Number of swim lessons')\n",
    "plt.ylabel('Model residuals');"
   ]
  },
  {
   "cell_type": "markdown",
   "id": "745b5c4f-a314-442a-831a-13b973987d97",
   "metadata": {},
   "source": [
    "<div class=\"alert alert-block alert-info\">\n",
    "\n",
    "**Q:** Do the residuals look less patterned (compared to our original line fit)? Do you still see any patterns?\n",
    "\n",
    "**A:**\n",
    "    \n",
    "</div>"
   ]
  }
 ],
 "metadata": {
  "kernelspec": {
   "display_name": "Python 3",
   "language": "python",
   "name": "python3"
  },
  "language_info": {
   "codemirror_mode": {
    "name": "ipython",
    "version": 3
   },
   "file_extension": ".py",
   "mimetype": "text/x-python",
   "name": "python",
   "nbconvert_exporter": "python",
   "pygments_lexer": "ipython3",
   "version": "3.8.8"
  }
 },
 "nbformat": 4,
 "nbformat_minor": 5
}
