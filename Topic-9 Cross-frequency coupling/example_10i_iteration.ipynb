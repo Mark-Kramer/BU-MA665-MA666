{
 "cells": [
  {
   "cell_type": "code",
   "execution_count": null,
   "id": "7f1874aa-81a6-4b17-8041-74026e75511b",
   "metadata": {},
   "outputs": [],
   "source": [
    "import numpy as np\n",
    "import matplotlib.pyplot as plt\n",
    "\n",
    "base = (1+2.3025/1024*1j)\n",
    "\n",
    "K=10000\n",
    "res = np.zeros([K,1], dtype=complex)\n",
    "for k in np.arange(K):\n",
    "    res[k] = base**k\n",
    "plt.plot(res.real)\n",
    "\n",
    "for k in np.arange(1001):\n",
    "    if np.mod(k,50)==0:\n",
    "        print(k, res[k])"
   ]
  }
 ],
 "metadata": {
  "kernelspec": {
   "display_name": "Python 3",
   "language": "python",
   "name": "python3"
  },
  "language_info": {
   "codemirror_mode": {
    "name": "ipython",
    "version": 3
   },
   "file_extension": ".py",
   "mimetype": "text/x-python",
   "name": "python",
   "nbconvert_exporter": "python",
   "pygments_lexer": "ipython3",
   "version": "3.8.8"
  }
 },
 "nbformat": 4,
 "nbformat_minor": 5
}
