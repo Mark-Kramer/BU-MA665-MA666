{
 "cells": [
  {
   "cell_type": "markdown",
   "metadata": {},
   "source": [
    "### Confidence Intervals for the ERP (Method 1) <a id=\"cis-m1\"></a>"
   ]
  },
  {
   "cell_type": "code",
   "execution_count": null,
   "metadata": {},
   "outputs": [],
   "source": [
    "import numpy as np\n",
    "import matplotlib.pyplot as plt"
   ]
  },
  {
   "cell_type": "code",
   "execution_count": null,
   "metadata": {},
   "outputs": [],
   "source": [
    "from scipy.io import loadmat       # Import function to read data.\n",
    "data = loadmat('EEG-1.mat')\n",
    "EEGa = data['EEGa']\n",
    "EEGb = data['EEGb']\n",
    "t = data['t'][0]\n",
    "ntrials = EEGa.shape[0]\n",
    "nsamples = EEGa.shape[1]"
   ]
  },
  {
   "cell_type": "code",
   "execution_count": null,
   "metadata": {},
   "outputs": [],
   "source": [
    "mn = EEGa.mean(0)  # Compute the mean across trials (the ERP)"
   ]
  },
  {
   "cell_type": "code",
   "execution_count": null,
   "metadata": {},
   "outputs": [],
   "source": [
    "sd = EEGa.std(0)  # Compute the std across trials"
   ]
  },
  {
   "cell_type": "code",
   "execution_count": null,
   "metadata": {},
   "outputs": [],
   "source": [
    "sdmn = sd / sqrt(ntrials)  # Compute the std of the mean"
   ]
  },
  {
   "cell_type": "code",
   "execution_count": null,
   "metadata": {},
   "outputs": [],
   "source": [
    "plt.plot(t, mn, 'k', lw=3)              # Plot the ERP of condition A\n",
    "plt.plot(t, mn + 2 * sdmn, 'k:', lw=1)  # ... and include the upper CI\n",
    "plt.plot(t, mn - 2 * sdmn, 'k:', lw=1)  # ... and the lower CI\n",
    "plt.xlabel('Time [s]')                     # Label the axes\n",
    "plt.ylabel('Voltage [$\\mu$ V]')\n",
    "plt.title('ERP of condition A')            # ... provide a useful title\n",
    "plt.hlines(0, t[0], t[-1]);"
   ]
  },
  {
   "cell_type": "markdown",
   "metadata": {},
   "source": [
    "### Confidence Intervals for the ERP (Method 2)"
   ]
  },
  {
   "cell_type": "code",
   "execution_count": null,
   "metadata": {},
   "outputs": [],
   "source": [
    "# Example: Draw 1000 integers with replacement from [0, 1000)\n",
    "i = np.random.randint(0, ntrials, size=ntrials)\n",
    "print(i)"
   ]
  },
  {
   "cell_type": "code",
   "execution_count": null,
   "metadata": {},
   "outputs": [],
   "source": [
    "EEG0 = EEGa[i,:]        # Create a resampled EEG.\n",
    "                        # Q: What is the shape of the resampled EEG?"
   ]
  },
  {
   "cell_type": "code",
   "execution_count": null,
   "metadata": {},
   "outputs": [],
   "source": [
    "ERP0 = EEG0.mean(0)     # Create the resampled ERP\n",
    "                        # Q: What is the difference between the resampled EEG and resampled ERP?\n",
    "                        # Q: What does the resampled ERP look like?"
   ]
  },
  {
   "cell_type": "code",
   "execution_count": null,
   "metadata": {},
   "outputs": [],
   "source": [
    "plt.plot(t,ERP0)"
   ]
  },
  {
   "cell_type": "code",
   "execution_count": null,
   "metadata": {},
   "outputs": [],
   "source": [
    "N_resample = 3000\n",
    "ERP0 = np.zeros((N_resample, nsamples))\n",
    "for k in arange(0,N_resample):\n",
    "    ???  # Create resampled indices.\n",
    "    ???  # Create a resampled EEG.\n",
    "    ???  # Create the resampled ERP"
   ]
  },
  {
   "cell_type": "code",
   "execution_count": null,
   "metadata": {},
   "outputs": [],
   "source": [
    "# Plot some examples.\n",
    "plt.plot(ERP0[0,:]);\n",
    "plt.plot(ERP0[1,:]);"
   ]
  },
  {
   "cell_type": "code",
   "execution_count": null,
   "metadata": {},
   "outputs": [],
   "source": [
    "# Compute 95% CI from the resampled ERPs\n",
    "ERP0_sorted = np.sort(ERP0,0)             # Sort each column of the resampled ERP\n",
    "ciL = ERP0_sorted[???]                    # Determine the lower CI\n",
    "ciU = ERP0_sorted[???]                    # ... and the upper CI\n",
    "mnA = ???                                 # Determine the ERP for condition A\n",
    "plt.plot(t, mnA, 'k', lw=3)               # ... and plot it\n",
    "plt.plot(t, ciL, 'k:')                    # ... and plot the lower CI\n",
    "plt.plot(t, ciU, 'k:')                    # ... and the upper CI\n",
    "plt.hlines(0, 0, 1, 'b')                  # plot a horizontal line at 0\n",
    "plt.xlabel('Time [s]')                    # ... and label the axes\n",
    "plt.ylabel('Voltage');"
   ]
  },
  {
   "cell_type": "markdown",
   "metadata": {},
   "source": [
    "### Comparing ERPs <a class=\"anchor\" id=\"comparing-erps\"></a>"
   ]
  },
  {
   "cell_type": "code",
   "execution_count": null,
   "metadata": {},
   "outputs": [],
   "source": [
    "erpA = ???    # Compute the mean across trials (the ERP)\n",
    "sdA  = ???    # Compute the sd across trials \n",
    "sdmnA= ???    # Compute the s.d.m.n\n",
    "\n",
    "erpB = ???    # Compute the mean across trials (the ERP)\n",
    "sdB  = ???    # Compute the sd across trials \n",
    "sdmnB= ???    # Compute the s.d.m.n\n",
    "\n",
    "plt.plot(t, erpA, 'r', lw=3, label='condition A')  # Plot the ERP of condition A\n",
    "plt.plot(t, erpA + 2 * sdmnA, 'r:', lw=1)           # ... and include the upper CI\n",
    "plt.plot(t, erpA - 2 * sdmnA, 'r:', lw=1)           # ... and the lower CI\n",
    "\n",
    "plt.plot(t, erpB, 'b', lw=3, label='condition B')  # Plot the ERP of condition B\n",
    "plt.plot(t, erpB + 2 * sdmnB, 'b:', lw=1)           # ... and include the upper CI\n",
    "plt.plot(t, erpB - 2 * sdmnB, 'b:', lw=1)           # ... and the lower CI\n",
    "\n",
    "plt.title('ERP of conditions A and B')\n",
    "legend()"
   ]
  },
  {
   "cell_type": "markdown",
   "metadata": {},
   "source": [
    "### A Bootstrap Test to Compare ERPs <a id=\"bootstrap\"></a>"
   ]
  },
  {
   "cell_type": "code",
   "execution_count": null,
   "metadata": {},
   "outputs": [],
   "source": [
    "mnA = np.mean(EEGa,0)          # Determine ERP for condition A\n",
    "mnB = np.mean(EEGb,0)          # Determine ERP for condition B\n",
    "mnD = mnA - mnB                # Compute the differenced ERP\n",
    "stat = np.max(np.abs(mnD))     # Compute the statistic\n",
    "print('stat = {:.4f}'.format(stat))"
   ]
  },
  {
   "cell_type": "code",
   "execution_count": null,
   "metadata": {},
   "outputs": [],
   "source": [
    "EEG = np.vstack((EEGa, EEGb))  # Step 1. Merge EEG data from all trials\n",
    "np.random.seed(123)            # Fix seed for reproducibility\n",
    "\n",
    "N_resample = 3000;\n",
    "stat0 = np.zeros(N_resample)\n",
    "for k in arange(0,N_resample):\n",
    "    \n",
    "    i      = ???    # Create resampled indices.\n",
    "    EEG0   = ???    # Create a resampled EEG for \"condition A\".\n",
    "    ERP0_A = ???    # Create a resampled ERP for \"condition A\".\n",
    "    \n",
    "    i      = ???    # Create resampled indices.\n",
    "    EEG0   = ???    # Create a resampled EEG for \"condition B\".\n",
    "    ERP0_A = ???    # Create a resampled ERP for \"condition B\".\n",
    "    \n",
    "    stat0[k] = ???  # Compute the stat from the resampled ERPs"
   ]
  },
  {
   "cell_type": "code",
   "execution_count": null,
   "metadata": {},
   "outputs": [],
   "source": [
    "# Plot the observed stat vs the resampled stat.\n",
    "plt.figure()\n",
    "plt.hist(stat0, bins='auto')\n",
    "plt.vlines(stat, 0, 100)\n",
    "np.size(np.where(stat0>stat)) / stat0.size"
   ]
  }
 ],
 "metadata": {
  "kernelspec": {
   "display_name": "Python 3",
   "language": "python",
   "name": "python3"
  },
  "language_info": {
   "codemirror_mode": {
    "name": "ipython",
    "version": 3
   },
   "file_extension": ".py",
   "mimetype": "text/x-python",
   "name": "python",
   "nbconvert_exporter": "python",
   "pygments_lexer": "ipython3",
   "version": "3.8.8"
  }
 },
 "nbformat": 4,
 "nbformat_minor": 4
}
