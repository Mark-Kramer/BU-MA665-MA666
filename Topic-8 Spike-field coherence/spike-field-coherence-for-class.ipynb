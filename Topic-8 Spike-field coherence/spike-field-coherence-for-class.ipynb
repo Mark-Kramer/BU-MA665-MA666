{
 "cells": [
  {
   "cell_type": "markdown",
   "metadata": {},
   "source": [
    "# Getting started with spike-field coherence"
   ]
  },
  {
   "cell_type": "code",
   "execution_count": null,
   "metadata": {},
   "outputs": [],
   "source": [
    "# Load modules we'll need.\n",
    "import numpy as np\n",
    "import matplotlib.pyplot as plt"
   ]
  },
  {
   "cell_type": "markdown",
   "metadata": {},
   "source": [
    "# Example: a randomly spiking neuron"
   ]
  },
  {
   "cell_type": "markdown",
   "metadata": {},
   "source": [
    "To start, let's create a fake spike train for a randomly spiking neuron, and compute the autocovariance and spectrum."
   ]
  },
  {
   "cell_type": "code",
   "execution_count": null,
   "metadata": {},
   "outputs": [],
   "source": [
    "N  = 5000;                          # Number of bins.                   \n",
    "dt = 0.001;                         # Duration of each bin [s].\n",
    "T  = N*dt;                          # Total time of observation [s].\n",
    "tm = np.arange(0,N)*dt;             # Time axis for plotting\n",
    "\n",
    "lambda0 = 5                         # Average firing rate [Hz]\n",
    "p0      = lambda0*dt;               # Probability of a spike in a time bin\n",
    "dn      = np.random.binomial(1,p0,N)# Create the spike train as \"coin flips\"\n",
    "\n",
    "plt.plot(tm, dn)                    # Plot it.\n",
    "plt.xlabel('Time [s]');"
   ]
  },
  {
   "cell_type": "code",
   "execution_count": null,
   "metadata": {},
   "outputs": [],
   "source": [
    "# Compute the autocovariance.\n",
    "\n",
    "ac_xx = 1 / N * np.correlate(dn-dn.mean(),dn-dn.mean(), 'full')\n",
    "lags = np.arange(-N + 1, N)                # Create a lag axis,\n",
    "plt.plot(lags * dt, ac_xx)                 # ... and plot the result.\n",
    "plt.xlabel('Lag [s]')\n",
    "plt.ylabel('Autocovariance');"
   ]
  },
  {
   "cell_type": "code",
   "execution_count": null,
   "metadata": {},
   "outputs": [],
   "source": [
    "# Compute the spectrum.\n",
    "\n",
    "Dj = np.fft.fft(dn - dn.mean())            # Compute the FT,\n",
    "Pj = 2 * dt**2 / T * (Dj * Dj.conj())      # ... and the spectrum.\n",
    "\n",
    "f = np.fft.fftfreq(N, dt)                         # Create frequency axis.\n",
    "\n",
    "plt.plot(f, np.real(Pj))                   # Plot the spectrum.\n",
    "plt.plot(f,2*dt**2*lambda0*np.ones(N), 'b')# And our guess from in-class analysis.\n",
    "plt.xlabel('Frequency [Hz]');"
   ]
  },
  {
   "cell_type": "code",
   "execution_count": null,
   "metadata": {},
   "outputs": [],
   "source": [
    "# Repeat the entire simulation many times, and plot the average spectrum\n",
    "\n",
    "K = 1000\n",
    "P = np.zeros([K,np.size(Pj)])\n",
    "for k in np.arange(K):                          # For each repeat,\n",
    "    dn = np.random.binomial(1,p0,N)             # ... create a new spike train.\n",
    "    \n",
    "    Dj = np.fft.fft(dn - dn.mean())             # Compute the FT,\n",
    "    Pj = np.real(2*dt**2/T*(Dj*Dj.conj()))      # ... and the spectrum,\n",
    "    P[k,:] = Pj                                 # ... and save the result.\n",
    "\n",
    "plt.plot(f, np.mean(P,0))                      # Plot the spectrum, averaged over repeats\n",
    "plt.plot(f,2*dt**2*lambda0*np.ones(N), 'b')     # And our guess from in-class analysis.\n",
    "plt.xlabel('Frequency [Hz]');"
   ]
  },
  {
   "cell_type": "markdown",
   "metadata": {},
   "source": [
    "# Analyze an example data set"
   ]
  },
  {
   "cell_type": "code",
   "execution_count": null,
   "metadata": {},
   "outputs": [],
   "source": [
    "# Load modules we'll need.\n",
    "import scipy.io as sio\n",
    "import numpy as np\n",
    "import matplotlib.pyplot as plt"
   ]
  },
  {
   "cell_type": "markdown",
   "metadata": {},
   "source": [
    "## Step 1: Load the data and look at it.\n",
    "\n",
    "**Q.** Do you observe evidence of rhythmic activity? Of spike-field coherence?\n",
    "\n",
    "### Conclusions\n",
    "\n",
    "* \n",
    "* "
   ]
  },
  {
   "cell_type": "code",
   "execution_count": null,
   "metadata": {},
   "outputs": [],
   "source": [
    "# Load the data.\n",
    "data = sio.loadmat('spikes-LFP-1.mat')       # Load the multiscale data,\n",
    "y = data['y']                                # ... get the LFP data,\n",
    "n = data['n']                                # ... get the spike data,\n",
    "t = data['t'].reshape(-1)                    # ... get the time axis,\n",
    "K = np.shape(n)[0]                           # Get the number of trials,\n",
    "N = np.shape(n)[1]                           # ... and the number of data points in each trial,\n",
    "dt = t[1]-t[0]                               # Get the sampling interval."
   ]
  },
  {
   "cell_type": "markdown",
   "metadata": {},
   "source": [
    "## Step 2: Compute the trial-averaged (auto-)spectrum for each data type.\n",
    "\n",
    "**Q.** What rhythms are present in the data?\n",
    "\n",
    "### Conclusions\n",
    "\n",
    "* \n",
    "* "
   ]
  },
  {
   "cell_type": "markdown",
   "metadata": {},
   "source": [
    "## Step 3: Compute the coherence between the two signals.\n",
    "\n",
    "**Q.** What do you find? Is there evidence of coherence between the two signals?\n",
    "\n",
    "**Q.** How do the coherence results compare to the spectral results?\n",
    "\n",
    "### Conclusions\n",
    "\n",
    "* \n",
    "* "
   ]
  }
 ],
 "metadata": {
  "kernelspec": {
   "display_name": "Python 3",
   "language": "python",
   "name": "python3"
  },
  "language_info": {
   "codemirror_mode": {
    "name": "ipython",
    "version": 3
   },
   "file_extension": ".py",
   "mimetype": "text/x-python",
   "name": "python",
   "nbconvert_exporter": "python",
   "pygments_lexer": "ipython3",
   "version": "3.8.8"
  }
 },
 "nbformat": 4,
 "nbformat_minor": 4
}
