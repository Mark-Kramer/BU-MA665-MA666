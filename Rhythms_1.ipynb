{
 "cells": [
  {
   "cell_type": "markdown",
   "id": "71df1f5c-097b-4d06-9c56-4d05110772ac",
   "metadata": {},
   "source": [
    "---\n",
    "title: Rhythms\n",
    "project:\n",
    "  type: website\n",
    "format:\n",
    "  html:\n",
    "    code-fold: true\n",
    "    code-tools: true\n",
    "jupyter: python 3\n",
    "number-sections: false\n",
    "filters:\n",
    "    - pyodide\n",
    "---"
   ]
  },
  {
   "cell_type": "markdown",
   "id": "7fe2a159-7ae4-491e-adff-411a4cb9c63b",
   "metadata": {},
   "source": [
    "In this notebook we will simulate rhythmic activity as a first step in our understanding of brain rhythms."
   ]
  },
  {
   "cell_type": "markdown",
   "id": "28b90ecd-3fa8-47f6-9a6c-137592ddd80f",
   "metadata": {},
   "source": [
    "```{pyodide-python}\n",
    "# Load modules\n",
    "import scipy.io as sio\n",
    "import numpy as np\n",
    "import pandas as pd\n",
    "import matplotlib.pyplot as plt\n",
    "```"
   ]
  },
  {
   "cell_type": "markdown",
   "id": "022dbe74-704a-4849-afac-6e779fb1839d",
   "metadata": {},
   "source": [
    "# Making sinusoids"
   ]
  },
  {
   "cell_type": "markdown",
   "id": "28f4c157-c927-4e2d-a1be-c8576d0c0d5b",
   "metadata": {},
   "source": [
    "It's relatively easy to make sinusoids in Python, using built-in commands.  There are many ways to do so, and we'll start here by constructing a time axis.  Consider the following:"
   ]
  },
  {
   "cell_type": "markdown",
   "id": "79b206fe-b22c-4a69-ba3e-feebe45cfd72",
   "metadata": {},
   "source": [
    "```{pyodide-python}\n",
    "t = np.arange(0, 2, 0.001)\n",
    "```"
   ]
  },
  {
   "cell_type": "markdown",
   "id": "156b5899-ffbb-4784-8bc6-18669854c0cf",
   "metadata": {},
   "source": [
    "::: {.callout}\n",
    "**Q:**  The variable t defines a time axis. When does time start? When does time end?  What is the sampling interval (i.e., the time between samples)?\n",
    ":::"
   ]
  },
  {
   "cell_type": "markdown",
   "id": "7ddcfc62-8949-4b06-81df-d8c29c22be27",
   "metadata": {},
   "source": [
    "Now, let's define a new variable that represents a sinusoid,"
   ]
  },
  {
   "cell_type": "markdown",
   "id": "665c6619-b67d-4be6-9af5-2cca406cd09e",
   "metadata": {},
   "source": [
    "```{pyodide-python}\n",
    "x = np.sin(2*np.pi*t)\n",
    "```"
   ]
  },
  {
   "cell_type": "markdown",
   "id": "6e7a24b1-20ae-43cf-b0d0-de164c407072",
   "metadata": {},
   "source": [
    "::: {.callout}\n",
    "**Q:**  Is `x` a sinusoid?  What is the frequency of the oscillation?\n",
    ":::"
   ]
  },
  {
   "cell_type": "markdown",
   "id": "8af02406-a4e8-4f76-bfac-03a56522d32c",
   "metadata": {},
   "source": [
    "::: {.callout}\n",
    "**Q:** How would you update `x` to create a sine function that oscillates at 10 Hz?\n",
    ":::"
   ]
  },
  {
   "cell_type": "markdown",
   "id": "bcd6bb73-5f11-44cd-bfb1-e51bbf62c859",
   "metadata": {},
   "source": [
    "::: {.callout}\n",
    "**Q:**  How would you create a *cosine* function that oscillates at 14 Hz?\n",
    ":::"
   ]
  },
  {
   "cell_type": "markdown",
   "id": "23c7c993-e03c-4cb6-960d-709298f9c5b0",
   "metadata": {},
   "source": [
    "# Orthogonality of sinusoids"
   ]
  },
  {
   "cell_type": "markdown",
   "id": "69dc1b46-3a64-4013-8742-8e5680f40b71",
   "metadata": {},
   "source": [
    "An important feature of sinusoids is orthogonality.\n",
    "\n",
    "Briefly, if we multiply together two cosine functions, and sum the resulting product, we get zero unless the frequencies match.\n",
    "\n",
    "Let's illustrate this idea in Python. To do so, first define two sinusoids,"
   ]
  },
  {
   "cell_type": "markdown",
   "id": "a85fda84-c332-4bad-bb7f-c2599b01bdc6",
   "metadata": {},
   "source": [
    "```{pyodide-python}\n",
    "f1 = 10;\n",
    "x1 = np.cos(2*np.pi*t*f1);\n",
    "\n",
    "f2 = 2;\n",
    "x2 = np.cos(2*np.pi*t*f2);\n",
    "```"
   ]
  },
  {
   "cell_type": "markdown",
   "id": "7cee7ea3-36a0-4a2b-81b2-58d76707b2cd",
   "metadata": {},
   "source": [
    "::: {.callout}\n",
    "**Q:**  What is the frequency of each sinusoid? Plot these sinusoids to see how they behave.\n",
    ":::"
   ]
  },
  {
   "cell_type": "markdown",
   "id": "ce0c7f30-c6f9-4190-989b-b43ad379fe34",
   "metadata": {},
   "source": [
    "To check orthogonality, we want to multiply together these two cosine functions, point-by-point at each time, then sum their product over all time."
   ]
  },
  {
   "cell_type": "markdown",
   "id": "c4bf074c-68b6-40ff-8496-06afa9f76c29",
   "metadata": {},
   "source": [
    "::: {.callout}\n",
    "**Q:**  How do we perform this operation in Python? Do so, and report what you find.\n",
    ":::"
   ]
  },
  {
   "cell_type": "markdown",
   "id": "3886b3e2-f856-4647-af26-578d7dd784c1",
   "metadata": {},
   "source": [
    "::: {.callout}\n",
    "**Q:** How does this result change for different choices of f1 and f2?\n",
    ":::"
   ]
  },
  {
   "cell_type": "markdown",
   "id": "6a90bf16-6497-4919-bc08-cdbb18bdd178",
   "metadata": {},
   "source": [
    "::: {.callout}\n",
    "**Q:** How does this result change if you use sine?\n",
    ":::"
   ]
  },
  {
   "cell_type": "markdown",
   "id": "22041f5b-7b0e-46c4-9fbb-89ab11a1740f",
   "metadata": {},
   "source": [
    "# Decomposing a sinusoid into one component"
   ]
  },
  {
   "cell_type": "markdown",
   "id": "c1c144f9-507e-4862-9c53-d8d99b6c9fff",
   "metadata": {},
   "source": [
    "We'll now consider a more complicated signal. Please download the data [Rhythms_1.csv](/Data/Rhythms_1.csv) and load the data,"
   ]
  },
  {
   "cell_type": "markdown",
   "id": "d380a618-5d8b-4c65-837e-e03e1018d4e5",
   "metadata": {},
   "source": [
    "```{pyodide-python}\n",
    "df = pd.read_csv(\"https://raw.githubusercontent.com/Mark-Kramer/BU-MA665-MA666/master/Data/Rhythms_1.csv\")\n",
    "\n",
    "# Extract the variables from the loaded data\n",
    "data = np.array(df.iloc[:,0])  #Get the values associated with the first column of the dataframe\n",
    "t    = np.array(df.iloc[:,1])  #Get the values associated with the second column of the dataframe\n",
    "```"
   ]
  },
  {
   "cell_type": "markdown",
   "id": "dedf9919-b405-4830-8da9-bab2d37fd8b2",
   "metadata": {},
   "source": [
    "::: {.callout}\n",
    "**Q:**  What are the dimensions of each variable?  What is the sampling interval?  What is the total duration of the data?\n",
    ":::"
   ]
  },
  {
   "cell_type": "markdown",
   "id": "0677e7e0-2191-44b7-835b-40c430d32e55",
   "metadata": {},
   "source": [
    "::: {.callout}\n",
    "**Q:**  By visual inspection of the data, what frequencies dominate the signal?\n",
    ":::"
   ]
  },
  {
   "cell_type": "markdown",
   "id": "5b83e12b-15bd-4509-a215-e087c209711c",
   "metadata": {},
   "source": [
    " Now, we'd like to compare sinusoids with known frequency to the data.\n",
    "\n",
    "In doing so, our goal is to identify those sinusoids that \"best match\" the data; this will reveal the rhythms that appear in the signal, which we will ultimately display graphically in a power spectrum.\n",
    "\n",
    "To begin this process, we'll specify a handful of frequencies to consider.\n",
    "\n",
    "Let's start with a sine function oscillating at 1 Hz.\n"
   ]
  },
  {
   "cell_type": "markdown",
   "id": "27ebe64f-2e74-4e37-8c43-be1ab5772013",
   "metadata": {},
   "source": [
    "::: {.callout}\n",
    "**Q:**  Define a 1 Hz sine function that lasts for the duration of the data, and has the same sampling interval (i.e., the same time axis as the data).\n",
    ":::"
   ]
  },
  {
   "cell_type": "markdown",
   "id": "2918ac42-8322-4aea-8831-3ec8d4758619",
   "metadata": {},
   "source": [
    "With the sine function now defined, let's \"compare\" it to the data\n",
    "\n",
    "To do so, we multiply point-by-point the data and sine function and sum the result.\n",
    "\n",
    "Because we're approximating an integral, we'll need to include the differential (dt) in the sum."
   ]
  },
  {
   "cell_type": "markdown",
   "id": "cf89fd08-c9bf-4939-91e9-004a0879bc88",
   "metadata": {},
   "source": [
    "::: {.callout}\n",
    "**Q:**  How do we compute this integral?\n",
    ":::"
   ]
  },
  {
   "cell_type": "markdown",
   "id": "91f80c82-f454-42f4-a9a0-54314ea14707",
   "metadata": {},
   "source": [
    "::: {.callout}\n",
    "**Q:**  Consider your result for this integral.  Does the 1 Hz sine function  make a significant contribution to the data?  Is the result of this integral consistent with your visual inspection of the data?\n",
    ":::"
   ]
  },
  {
   "cell_type": "markdown",
   "id": "506e481a-e467-4fcf-945d-e55cbaea1a83",
   "metadata": {},
   "source": [
    "# Decomposing a sinusoid into many components"
   ]
  },
  {
   "cell_type": "markdown",
   "id": "4399af3f-cf84-4198-89cc-bf77599f2b73",
   "metadata": {},
   "source": [
    "  Now, we've compared a single sinusoid - the 1 Hz sine function - to the  data.\n",
    "  \n",
    "  In this case, we've found that the corresponding integral is small.\n",
    "  \n",
    "  However, we're not interested in *only* this sinusoid; we'd really like to\n",
    "  consider a range of sinusoids (both sine and cosine functions) oscillating\n",
    "  at different frequencies.\n",
    "  \n",
    "  Our goal in this part of notebook is to do so, and compare the data to sinusoids at different frequencies.\n"
   ]
  },
  {
   "cell_type": "markdown",
   "id": "8df36b0e-fbe8-4361-b54e-6d4fc1163df8",
   "metadata": {},
   "source": [
    "::: {.callout}\n",
    "**Q:** Compare the data to sinusoids at integer frequencies {1,2,3, ..., 10} Hz. Save your results for each frequency of \n",
    "the cosine function in a variable called \"A\", and the results for each frequency of the sine function in a variable called \"B\".\n",
    "\n",
    "*HINT*: There are many ways to compute these comparisons.  You might perform each computation \"by hand\" (e.g., compute A at 1 Hz, B at 1 Hz, A at 2 Hz, B at 2 Hz, . . . ).  In doing so, you'll notice a lot of repetition.  Is there a more efficient way to perform so many similar computations?\n",
    ":::"
   ]
  },
  {
   "cell_type": "code",
   "execution_count": null,
   "id": "97f52506-6426-4ffe-a1ce-34c49b8498a5",
   "metadata": {},
   "outputs": [],
   "source": []
  }
 ],
 "metadata": {
  "kernelspec": {
   "display_name": "Python 3 (ipykernel)",
   "language": "python",
   "name": "python3"
  },
  "language_info": {
   "codemirror_mode": {
    "name": "ipython",
    "version": 3
   },
   "file_extension": ".py",
   "mimetype": "text/x-python",
   "name": "python",
   "nbconvert_exporter": "python",
   "pygments_lexer": "ipython3",
   "version": "3.8.18"
  }
 },
 "nbformat": 4,
 "nbformat_minor": 5
}
