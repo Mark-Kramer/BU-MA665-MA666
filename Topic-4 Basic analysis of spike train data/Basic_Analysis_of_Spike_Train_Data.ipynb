{
 "cells": [
  {
   "cell_type": "markdown",
   "metadata": {},
   "source": [
    "In this notebook, we will analyze spike train data collected in an \"experiment\".  You will load the data in Python, and then analyze the data using the techniques we discussed in lecture."
   ]
  },
  {
   "cell_type": "markdown",
   "metadata": {},
   "source": [
    "## Part 1:  Load and visualize the data.\n",
    "\n",
    "The spike train data consists of 1000 trials, each lasting 500 ms with a sampling rate of 1000 Hz.\n",
    "\n",
    "> **Q:** Given this, how many samples will you have per trial?\n",
    "\n",
    "Load the data `Ch3_d1.mat`"
   ]
  },
  {
   "cell_type": "code",
   "execution_count": null,
   "metadata": {},
   "outputs": [],
   "source": [
    "from scipy.io import loadmat       # Import function to read data.\n",
    "data = loadmat('Ch3_d1.mat')\n",
    "d    = data['d']"
   ]
  },
  {
   "cell_type": "markdown",
   "metadata": {},
   "source": [
    "Upon loading these data, your workspace should hold a single variable `d`.\n",
    "\n",
    "> **Q:**  What are the dimensions of `d`?\n",
    "\n",
    "It's useful to define two new variables that record the number of trials, and the length of each trial.\n",
    "\n",
    "> **Q:** Define two new variables, `n_trials` for the total number of trials, and `T` for the total number of time indices.\n"
   ]
  },
  {
   "cell_type": "code",
   "execution_count": null,
   "metadata": {},
   "outputs": [],
   "source": [
    "import numpy as np\n",
    "import matplotlib.pyplot as plt\n",
    "n_trials = ???\n",
    "T = ???"
   ]
  },
  {
   "cell_type": "markdown",
   "metadata": {},
   "source": [
    "Notice that here we've used the entire length of the data (500 ms) as our counting window.\n",
    "\n",
    "> **Q:**  To get a sense for the data, plot the results from a single trial.\n",
    "\n",
    "> **Q:**  What values do the data assume?  What constitutes a spike?\n",
    "\n",
    "> **Q:**  Visual inspection of data is a powerful tool.  Describe what you \"see\" in the plot.  In this single trial, does the neuron spike \"a lot\" or \"a little\"?  Estimate the number of spikes in this trial.\n",
    "\n",
    "> **Q:**  The results for one trial can be deceiving.  Visualize the output of additional trials.  Do you notice any consistency?\n",
    "\n",
    "> **Q:** One way to characterize the data is to count the number of spikes  per trial.  For trials 1-5, plot each trial (as above) and count the number of spikes.  Save your results and show them to me, or to someone else in class, and compare your results.\n"
   ]
  },
  {
   "cell_type": "markdown",
   "metadata": {},
   "source": [
    "## Part 2:  Quantify the spiking\n",
    "\n",
    "Through visual inspection, we've examined the spiking for a handful of trials, and counted the number of spikes per trial.  Let's now attempt to summarize the data for *all* trials.\n",
    "\n",
    "We could try to do this by hand (as in the previous exercise). But counting spikes by hand is TEDIOUS.  Imagine repeating this procedure for 1000 trials!  We can more effectively count the number of spikes per trial by issuing a command in Python.  Consider the following,\n",
    "\n",
    "> **Q:** Define a new variable `n_spikes_per_trial` as the number of spikes per trial.  What Python function will you use to define this variable?  What should be the dimensions of this new variable?"
   ]
  },
  {
   "cell_type": "code",
   "execution_count": null,
   "metadata": {},
   "outputs": [],
   "source": [
    "n_spikes_per_trial = ???"
   ]
  },
  {
   "cell_type": "markdown",
   "metadata": {},
   "source": [
    "> **Q:** Compare your results counting the number of spikes in trials 1-5 (found through visual inspection above) with the first five elements of the variable `n_spikes_per_trial`.  Do the two match?\n",
    "\n",
    "> **Q:** Now, compute the average number (or mean number) of spikes per trial. Use a single Python command to do so.  Please save your results in a variable called `n_avg`.\n"
   ]
  },
  {
   "cell_type": "code",
   "execution_count": null,
   "metadata": {},
   "outputs": [],
   "source": [
    "n_avg = ???"
   ]
  },
  {
   "cell_type": "markdown",
   "metadata": {},
   "source": [
    "> **Q:**  What is the numerical value for `n_avg`?  Is this consistent with your visual inspection of the data?\n"
   ]
  },
  {
   "cell_type": "markdown",
   "metadata": {},
   "source": [
    "## Histograms\n",
    "\n",
    "We've learned one quantitative element about the data:  the mean number of spikes per trial.  To learn more about the data, let's compute a histogram of the number of spikes per trial.  This is the \"spike number histogram\" (SNH).  Consider the following snippet of code:"
   ]
  },
  {
   "cell_type": "code",
   "execution_count": null,
   "metadata": {},
   "outputs": [],
   "source": [
    "plt.hist(n_spikes_per_trial, np.arange(40))\n",
    "plt.xlabel('n = number of spikes')\n",
    "plt.ylabel('Number of trials containing n spikes')\n",
    "plt.title('SNH');"
   ]
  },
  {
   "cell_type": "markdown",
   "metadata": {},
   "source": [
    "> **Q:**  Remember the `hist` command?\n",
    "\n",
    "> **Q:**  Why do we input two arguments to the `hist` command?  What is the purpose of the second argument?  Vary the second argument in `hist` and re-execute the snippet of code above.  Examine how the histogram plot changes.\n",
    "\n",
    "Python plots the histogram.  The horizontal axis indicates the number of spikes observed in a trial -- let's call this 'n'.  The vertical axis indicates the number of trials that contain n spikes.  To make this clear, we label the axes, and we title the plot:\n",
    "\n",
    "```\n",
    "plt.xlabel('n = number of spikes');\n",
    "plt.ylabel('Number of trials containing n spikes');\n",
    "plt.title('SNH')\n",
    "```\n",
    "> **Q:** (*OPTIONAL* Mini-challenge):  Include text on the plot that prints the numerical value of the mean number of spikes per trial.\n"
   ]
  },
  {
   "cell_type": "markdown",
   "metadata": {},
   "source": [
    "## Part 4:  Average firing rate\n",
    "\n",
    "> **Q:** Use your results above to compute the average firing rate of the data. Tell me what you find in lab, or compare with a classmate. *HINT:* It's one line of code!  See your lecture notes ...\n"
   ]
  },
  {
   "cell_type": "markdown",
   "metadata": {},
   "source": [
    "## Part 5:  ISI\n",
    "\n",
    "We've spent some time considering the number of spikes per trial, and visualized these results in the SNH.  Let's now investigate the *time intervals* between spikes.  Namely, let's compute the ISIs (InterSpike Intervals).\n",
    "\n",
    "First, we have to convert the observed data `d` to a list of ISIs. Remember, the data `d` indicates the *time* of each spike (in each trial). What we'd like to know now is the time *between* spikes.  To compute the time between spikes, we'll do the following:\n"
   ]
  },
  {
   "cell_type": "code",
   "execution_count": null,
   "metadata": {},
   "outputs": [],
   "source": [
    "ISI = [];\n",
    "for k in np.arange(n_trials):\n",
    "    spike_times = np.where(d[k,:] == 1);\n",
    "    isi0 = np.diff(spike_times);\n",
    "    ISI = np.concatenate([ISI, isi0[0]]);"
   ]
  },
  {
   "cell_type": "markdown",
   "metadata": {},
   "source": [
    "> **Q:**  That's a complicated series of commands!  Study it and explain it to a classmate or me.  Look up commands you don't yet know.\n",
    "\n",
    "> **Q:**  Execute the commands above and examine the vector ISI.  What is it's size?  Does it make sense to you?\n",
    "\n",
    "Once we've constructed the vector ISI, we can calculte its mean,"
   ]
  },
  {
   "cell_type": "code",
   "execution_count": null,
   "metadata": {},
   "outputs": [],
   "source": [
    "mean_ISI = np.mean(ISI)"
   ]
  },
  {
   "cell_type": "markdown",
   "metadata": {},
   "source": [
    "> **Q:** Examine the value of the mean ISI.  Does it seem reasonable?  Why (or why not)?\n",
    "\n",
    "> **Q:** Construct a histogram of the ISI.  How does it compare to the mean ISI?\n"
   ]
  },
  {
   "cell_type": "markdown",
   "metadata": {},
   "source": [
    "## Part 6: PSTH\n",
    "\n",
    "We also discussed in class the poststimulus time histogram, or PSTH. To compute the PSTH, we first need to compute the probability of a spike at any moment in time.  Consider the following code:\n"
   ]
  },
  {
   "cell_type": "code",
   "execution_count": null,
   "metadata": {},
   "outputs": [],
   "source": [
    "prob_spike = np.sum(d,0)/n_trials;"
   ]
  },
  {
   "cell_type": "markdown",
   "metadata": {},
   "source": [
    "> **Q:** Why does this line of code reveal the probability of spiking at any moment in time?\n",
    "\n",
    "> **Q:** Use the above line of code to compute the PSTH, and plot it as a function of time.  In the line of code above, what is the size of the tiny bin used to divide the time axis?  How does the instantaneous frequency evolve over time?\n"
   ]
  },
  {
   "cell_type": "markdown",
   "metadata": {},
   "source": [
    "## Part 7:  Fano\n",
    "\n",
    "In lecture, we determined a method to check if a data set exhibits\n",
    "  Poisson properties: compute the Fano factor.  Remember, a Poisson\n",
    "  model is a *very* simple statistical model for how a spike train may\n",
    "  behave.  To test whether our data is consistent with a Poisson model,\n",
    "  we must first compute the mean and variance in the number of spikes per\n",
    "  trial.  We've already computed the mean. So ...\n",
    "\n",
    "> **Q:**  Compute the variance in the number of spikes per trial.\n",
    "*HINT:*  You'll need to implement a command to compute the \"variance\" . . .\n",
    "\n",
    "The formula for the Fano factor is:\n",
    "\n",
    "```\n",
    "  FANO =  [variance in the # of spikes per trial] / [average # spikes per trial]\n",
    "```\n",
    "\n",
    "> **Q:**  What is the Fano factor for `d`?  Compare with your classmates.\n",
    "\n",
    "> **Q:**  Based on your calculation, do you think the data is Poisson?\n"
   ]
  }
 ],
 "metadata": {
  "kernelspec": {
   "display_name": "Python 3",
   "language": "python",
   "name": "python3"
  },
  "language_info": {
   "codemirror_mode": {
    "name": "ipython",
    "version": 3
   },
   "file_extension": ".py",
   "mimetype": "text/x-python",
   "name": "python",
   "nbconvert_exporter": "python",
   "pygments_lexer": "ipython3",
   "version": "3.8.8"
  }
 },
 "nbformat": 4,
 "nbformat_minor": 4
}
