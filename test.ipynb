{
 "cells": [
  {
   "cell_type": "markdown",
   "id": "a4e9272c-0767-4f93-b102-745cc0aac9d7",
   "metadata": {},
   "source": [
    "---\n",
    "title: Test\n",
    "project:\n",
    "  type: website\n",
    "format:\n",
    "  html:\n",
    "    code-fold: true\n",
    "    code-tools: true\n",
    "jupyter: python 3\n",
    "number-sections: true\n",
    "filters:\n",
    "    - pyodide\n",
    "---"
   ]
  },
  {
   "cell_type": "markdown",
   "id": "b9102d55-329a-477f-ac29-336b27d1314a",
   "metadata": {},
   "source": [
    "This is a Pyodide-enabled code cell in a Quarto HTML document.\n",
    "\n",
    "```{pyodide-python}\n",
    "n = 5\n",
    "while n > 0:\n",
    "  print(n)\n",
    "  n = n - 1\n",
    "\n",
    "print('Blastoff!')\n",
    "```"
   ]
  },
  {
   "cell_type": "markdown",
   "id": "49ad5855-280e-4643-945f-33ed2444127f",
   "metadata": {},
   "source": [
    "# Load modules\n",
    "```{pyodide-python}\n",
    "import scipy.io as sio\n",
    "import numpy as np\n",
    "import matplotlib.pyplot as plt\n",
    "import pandas as pd\n",
    "```"
   ]
  },
  {
   "cell_type": "markdown",
   "id": "a90e229e-320b-4b3d-9203-8216944b77c2",
   "metadata": {},
   "source": [
    "```{pyodide-python}\n",
    "t = np.arange(0, 2, 0.001)\n",
    "```"
   ]
  },
  {
   "cell_type": "markdown",
   "id": "fa06f341-6cf0-4de9-b923-04c941455de1",
   "metadata": {},
   "source": [
    "```{pyodide-python}\n",
    "df = pd.read_csv(\"https://raw.githubusercontent.com/Mark-Kramer/BU-MA665-MA666/master/Data/Rhythms_1.csv\")\n",
    "df.head()\n",
    "d = df.iloc[:,0]  # iloc[:, 0] selects the first column\n",
    "plt.plot(d)\n",
    "plt.show()\n",
    "```"
   ]
  },
  {
   "cell_type": "code",
   "execution_count": null,
   "id": "18cdf912-568e-4e31-9f15-1eee95c35850",
   "metadata": {},
   "outputs": [],
   "source": []
  },
  {
   "cell_type": "code",
   "execution_count": null,
   "id": "5242dd50-2861-4d7a-9dd7-42442e6d7649",
   "metadata": {},
   "outputs": [],
   "source": []
  }
 ],
 "metadata": {
  "kernelspec": {
   "display_name": "Python 3 (ipykernel)",
   "language": "python",
   "name": "python3"
  },
  "language_info": {
   "codemirror_mode": {
    "name": "ipython",
    "version": 3
   },
   "file_extension": ".py",
   "mimetype": "text/x-python",
   "name": "python",
   "nbconvert_exporter": "python",
   "pygments_lexer": "ipython3",
   "version": "3.8.18"
  }
 },
 "nbformat": 4,
 "nbformat_minor": 5
}
